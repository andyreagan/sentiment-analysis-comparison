{
 "cells": [
  {
   "cell_type": "code",
   "execution_count": 1,
   "metadata": {
    "collapsed": false
   },
   "outputs": [],
   "source": [
    "import sys\n",
    "sys.path.append(\"/Users/andyreagan/tools/python/labMTsimple/\")\n",
    "from labMTsimple.speedy import *\n",
    "from labMTsimple.storyLab import *\n",
    "\n",
    "import re\n",
    "import codecs\n",
    "from os import listdir,mkdir\n",
    "from os.path import isfile,isdir\n",
    "import matplotlib.pyplot as plt\n",
    "%matplotlib inline\n",
    "from matplotlib import rc,rcParams\n",
    "rc(\"xtick\", labelsize=8)\n",
    "rc(\"ytick\", labelsize=8)\n",
    "rc(\"font\",**{\"family\":\"serif\",\"serif\":[\"cmr10\"]})\n",
    "# rc(\"text\", usetex=True)\n",
    "figwidth_onecol = 8.5\n",
    "figwidth_twocol = figwidth_onecol/2\n",
    "\n",
    "import numpy as np\n",
    "from json import loads\n",
    "import csv\n",
    "from datetime import datetime,timedelta\n",
    "import pickle\n",
    "\n",
    "from subprocess import call\n",
    "\n",
    "from scipy.stats import pearsonr\n",
    "\n",
    "error_logging = True\n",
    "sys.path.append(\"/Users/andyreagan/tools/python/kitchentable\")\n",
    "from dogtoys import *\n",
    "\n",
    "\n",
    "\n",
    "test_name = \"LabMT-ANEW-LIWC-MPQA-Liu-WK-long\"\n",
    "allLengths = [1,   2,   3,   5,   7,   10, 15,  25, 40, 60, 80,100,150,250,400,600,900,1000]\n",
    "allSamples = [1000,2000,1500,1500,1000,900,750,600,500,250,100, 75, 75, 55, 40, 25, 15,   1]\n",
    "allSamples[0] = 1000\n",
    "allSamples[-1] = 1\n",
    "\n",
    "\n",
    "middle=100\n",
    "test_name = \"LabMT-ANEW-LIWC-MPQA-Liu-WK-{}\".format(middle)\n",
    "allLengths = [1,   2,   3,   5,   7,   10, 15,  25, 40, 60, 80,100,150,250,400,600,900,1000]\n",
    "allSamples = [middle for i in range(len(allLengths))]\n",
    "allSamples[0] = 1000\n",
    "allSamples[-1] = 1\n",
    "\n",
    "\n",
    "test_name = \"all-test\"\n",
    "allLengths = [1,   2,   3,   5,   7,   10, 15,  25, 40, 60, 80,100,150,250,400,600,900,1000]\n",
    "# allSamples = [1000,2000,1500,1500,1000,900,750,600,500,250,100, 75, 75, 55, 40, 25, 15,   1]\n",
    "allSamples = [1 for i in range(len(allLengths))]\n",
    "allSamples[0] = 1000\n",
    "allSamples[-1] = 1\n",
    "\n",
    "test_name = \"all-singles\"\n",
    "allLengths = [1]\n",
    "allSamples = [1000]"
   ]
  },
  {
   "cell_type": "code",
   "execution_count": 2,
   "metadata": {
    "collapsed": true
   },
   "outputs": [],
   "source": [
    "def sampleReviewsDict(numReviews,numSamples,filelist,wordsRE,prefix,test=\"LabMT-ANEW-LIWC-MPQA-Liu-WK\"):\n",
    "    \"\"\"Sample from all of the review.\"\"\"\n",
    "    if numReviews == 1:\n",
    "        choose_randomly = False\n",
    "    else:\n",
    "        choose_randomly = True\n",
    "\n",
    "    scores = [[0.0 for i in range(numSamples)] for j in range(len(wordsRE))]\n",
    "    for i in range(numSamples):\n",
    "        # print(\"on sample {0}\".format(i))\n",
    "\n",
    "        if choose_randomly:\n",
    "            files = np.random.choice(filelist,size=numReviews,replace=False)\n",
    "        else:\n",
    "            files = [filelist[i]]\n",
    "\n",
    "        # forget the string expansion\n",
    "        # let\"s store them as a dict\n",
    "        allwordcounts = dict()\n",
    "        for file in files:\n",
    "            # ########################################\n",
    "            # # this makes the dicts if they're needed\n",
    "            # if isfile(file+\".dict\"):\n",
    "            #     my_dict = pickle.load( open( file+\".dict\", \"rb\" ) )\n",
    "            #     for word in my_dict:\n",
    "            #         if word in allwordcounts:\n",
    "            #             allwordcounts[word] += my_dict[word]\n",
    "            #         else:\n",
    "            #             allwordcounts[word] = my_dict[word]\n",
    "            # else:\n",
    "            #     # read the txt file\n",
    "            #     f = open(file+\".txt\",\"r\")\n",
    "            #     rawtext = f.read()\n",
    "            #     f.close()\n",
    "            #     # dictify_general it\n",
    "            #     tmp_dict = dict()\n",
    "            #     dictify_general(rawtext,tmp_dict)\n",
    "            #     pickle.dump( tmp_dict , open( file+\".dict\", \"wb\" ) )\n",
    "            #     # add to the full dict\n",
    "            #     dictify_general(rawtext,allwordcounts)\n",
    "\n",
    "            # ###################################################\n",
    "            # # this loads the dicts\n",
    "            # my_dict = pickle.load( open( file+\".dict\", \"rb\" ) )\n",
    "            # for word in my_dict:\n",
    "            #     if word in allwordcounts:\n",
    "            #         allwordcounts[word] += my_dict[word]\n",
    "            #     else:\n",
    "            #         allwordcounts[word] = my_dict[word]\n",
    "\n",
    "            ########################################\n",
    "            # this loads the files\n",
    "            f = open(file+\".txt\",\"r\")\n",
    "            rawtext = f.read()\n",
    "            f.close()\n",
    "            # add to the full dict\n",
    "            dictify_general(rawtext,allwordcounts)\n",
    "\n",
    "        for j in range(len(wordsRE)):\n",
    "            scores[j][i] = wordsRE[j].score(allwordcounts)\n",
    "\n",
    "    f = open(\"output/{0}-{1}-{2:.0f}-{3:.0f}.csv\".format(test,prefix,numReviews,numSamples),\"w\")\n",
    "    csv_writer = csv.writer(f)\n",
    "    for row in scores:\n",
    "        csv_writer.writerow(row)\n",
    "    f.close()\n",
    "    \n",
    "    return scores"
   ]
  },
  {
   "cell_type": "code",
   "execution_count": 3,
   "metadata": {
    "collapsed": false,
    "scrolled": false
   },
   "outputs": [
    {
     "name": "stdout",
     "output_type": "stream",
     "text": [
      "loading LabMT with stopVal=1.0, for 3731 words\n",
      "loading ANEW with stopVal=0.0, for 1034 words\n",
      "loading data/LIWC/LIWC2007_English100131_words.dic\n",
      "loading LIWC with stopVal=0.0, for 4483 words\n",
      "loading MPQA with stopVal=0.0, for 7192 words\n",
      "loading Liu with stopVal=0.0, for 6782 words\n",
      "loading WK with stopVal=0.0, for 13915 words\n",
      "loading PANAS-X with stopVal=0.0, for 20 words\n",
      "loading Pattern with stopVal=0.0, for 1528 words\n",
      "loading SentiWordNet with stopVal=0.0, for 147700 words\n",
      "loading AFINN with stopVal=0.0, for 2477 words\n",
      "oops, deal is both pos and negative\n",
      "oops, fine is both pos and negative\n",
      "oops, fine is both pos and negative\n",
      "oops, fun is both pos and negative\n",
      "oops, help is both pos and negative\n",
      "oops, laugh is both pos and negative\n",
      "oops, matter is both pos and negative\n",
      "oops, order is both pos and negative\n",
      "oops, particular is both pos and negative\n",
      "oops, pass is both pos and negative\n",
      "loading General Inquirer with stopVal=0.0, for 3629 words\n",
      "loading Whissel's Dictionary of Affective Language with stopVal=0.0, for 8743 words\n",
      "loading NRC with stopVal=0.0, for 1220176 words\n"
     ]
    }
   ],
   "source": [
    "stopVal = 0.0\n",
    "allDicts = (LabMT(stopVal=1.0),\n",
    "            ANEW(stopVal=stopVal),\n",
    "            LIWC(stopVal=stopVal),\n",
    "            MPQA(stopVal=stopVal),\n",
    "            Liu(stopVal=stopVal),\n",
    "            WK(stopVal=stopVal),\n",
    "            PANASX(stopVal=stopVal),\n",
    "            pattern(stopVal=stopVal),\n",
    "            sentiWordNet(stopVal=stopVal),\n",
    "            AFINN(stopVal=stopVal),\n",
    "            GI(stopVal=stopVal),\n",
    "            WDAL(stopVal=stopVal),\n",
    "            NRC(stopVal=stopVal))"
   ]
  },
  {
   "cell_type": "code",
   "execution_count": 4,
   "metadata": {
    "collapsed": false,
    "scrolled": false
   },
   "outputs": [
    {
     "name": "stdout",
     "output_type": "stream",
     "text": [
      "taking 1000 samples of 1 reviews\n",
      "taking 1000 samples of 1 reviews\n"
     ]
    }
   ],
   "source": [
    "results = [[[] for i in range(len(allLengths))],[[] for i in range(len(allLengths))]]\n",
    "for j,flip in enumerate([\"pos\",\"neg\"]):\n",
    "    files = [\"../data/moviereviews/txt_sentoken/{0}/{1}\".format(flip,x.replace(\".txt\",\"\"))\n",
    "             for x in listdir(\"../data/moviereviews/txt_sentoken/{0}/\".format(flip)) if \".txt\" in x]\n",
    "    prefix = \"{0}Scores\".format(flip)\n",
    "    for i,numReviews in enumerate(allLengths):\n",
    "        numSamples = allSamples[i]\n",
    "        print(\"taking {0} samples of {1} reviews\".format(numSamples,numReviews))\n",
    "        results[j][i] = sampleReviewsDict(numReviews,numSamples,files,allDicts,prefix,test=test_name)"
   ]
  },
  {
   "cell_type": "code",
   "execution_count": 5,
   "metadata": {
    "collapsed": false
   },
   "outputs": [],
   "source": [
    "# results"
   ]
  },
  {
   "cell_type": "code",
   "execution_count": 6,
   "metadata": {
    "collapsed": true
   },
   "outputs": [],
   "source": [
    "negcolor = \"#4C4CFF\" # shift blue\n",
    "poscolor = \"#FFFF4C\" # shift yellow\n",
    "poscolor = \"#ff7f00\" # orange (shift yellow too hard to read)"
   ]
  },
  {
   "cell_type": "code",
   "execution_count": 7,
   "metadata": {
    "collapsed": false,
    "scrolled": false
   },
   "outputs": [
    {
     "data": {
      "image/png": "[encoded data removed]",
      "text/plain": [
       "<matplotlib.figure.Figure at 0x12ad57780>"
      ]
     },
     "metadata": {},
     "output_type": "display_data"
    },
    {
     "data": {
      "image/png": "[encoded data removed]",
      "text/plain": [
       "<matplotlib.figure.Figure at 0x12ab41dd8>"
      ]
     },
     "metadata": {},
     "output_type": "display_data"
    },
    {
     "data": {
      "image/png": "[encoded data removed]",
      "text/plain": [
       "<matplotlib.figure.Figure at 0x10b046470>"
      ]
     },
     "metadata": {},
     "output_type": "display_data"
    },
    {
     "data": {
      "image/png": "[encoded data removed]",
      "text/plain": [
       "<matplotlib.figure.Figure at 0x11091cac8>"
      ]
     },
     "metadata": {},
     "output_type": "display_data"
    },
    {
     "data": {
      "image/png": "[encoded data removed]",
      "text/plain": [
       "<matplotlib.figure.Figure at 0x1142002b0>"
      ]
     },
     "metadata": {},
     "output_type": "display_data"
    },
    {
     "data": {
      "image/png": "[encoded data removed]",
      "text/plain": [
       "<matplotlib.figure.Figure at 0x1143da940>"
      ]
     },
     "metadata": {},
     "output_type": "display_data"
    },
    {
     "data": {
      "image/png": "[encoded data removed]",
      "text/plain": [
       "<matplotlib.figure.Figure at 0x1145f7fd0>"
      ]
     },
     "metadata": {},
     "output_type": "display_data"
    },
    {
     "data": {
      "image/png": "[encoded data removed]",
      "text/plain": [
       "<matplotlib.figure.Figure at 0x114792518>"
      ]
     },
     "metadata": {},
     "output_type": "display_data"
    },
    {
     "data": {
      "image/png": "[encoded data removed]",
      "text/plain": [
       "<matplotlib.figure.Figure at 0x1150efb70>"
      ]
     },
     "metadata": {},
     "output_type": "display_data"
    },
    {
     "data": {
      "image/png": "[encoded data removed]",
      "text/plain": [
       "<matplotlib.figure.Figure at 0x11528c208>"
      ]
     },
     "metadata": {},
     "output_type": "display_data"
    },
    {
     "data": {
      "image/png": "[encoded data removed]",
      "text/plain": [
       "<matplotlib.figure.Figure at 0x115428860>"
      ]
     },
     "metadata": {},
     "output_type": "display_data"
    },
    {
     "data": {
      "image/png": "[encoded data removed]",
      "text/plain": [
       "<matplotlib.figure.Figure at 0x11654a860>"
      ]
     },
     "metadata": {},
     "output_type": "display_data"
    },
    {
     "data": {
      "image/png": "[encoded data removed]",
      "text/plain": [
       "<matplotlib.figure.Figure at 0x1166e5550>"
      ]
     },
     "metadata": {},
     "output_type": "display_data"
    }
   ],
   "source": [
    "pos_scores = results[0]\n",
    "neg_scores = results[1]\n",
    "nbins=50\n",
    "review_length = 0\n",
    "dict_num = 0\n",
    "for dict_num,my_dict in enumerate(allDicts):\n",
    "    fig = plt.figure()\n",
    "    ax1 = fig.add_axes([0.15,0.2,0.7,0.7])\n",
    "    ax1.hist(pos_scores[review_length][dict_num], nbins, alpha=0.75, facecolor=\"#ef8a62\",)\n",
    "    ax1.hist(neg_scores[review_length][dict_num], nbins, alpha=0.75, facecolor=\"#2b8cbe\",)\n",
    "    ax1.legend([\"Positive reviews\",\"Negative reviews\"],loc=\"best\",framealpha=0.5)\n",
    "    # ax1.set_title(\"{0} score distribution for {1} reviews\".format(titles[j],allLengths[i]))\n",
    "    ax1.set_xlabel(\"Score\")\n",
    "    ax1.set_ylabel(\"Number of reviews\")\n",
    "    ax1.set_title(\"{} {}\".format(my_dict.title,my_dict.stopVal))\n",
    "\n",
    "    # mysavefig(\"{0}-{1}reviews-dist\".format(titles[j],allLengths[i]))\n",
    "    # mysavefig(\"{0}-{1}reviews-dist\".format(titles[j],allLengths[i]))\n",
    "    # mysavefig(\"reviews-dist-{0}-{1}.pdf\".format(titles[j],allLengths[i]),date=False,folder=\"figures/moviereviews\")\n",
    "    # plt.close(fig)"
   ]
  },
  {
   "cell_type": "code",
   "execution_count": 8,
   "metadata": {
    "collapsed": false
   },
   "outputs": [],
   "source": [
    "flip = \"pos\"\n",
    "pos_files = [\"../data/moviereviews/txt_sentoken/{0}/{1}\".format(flip,x.replace(\".txt\",\"\"))\n",
    "             for x in listdir(\"../data/moviereviews/txt_sentoken/{0}/\".format(flip)) if \".txt\" in x]\n",
    "flip = \"neg\"\n",
    "neg_files = [\"../data/moviereviews/txt_sentoken/{0}/{1}\".format(flip,x.replace(\".txt\",\"\"))\n",
    "             for x in listdir(\"../data/moviereviews/txt_sentoken/{0}/\".format(flip)) if \".txt\" in x]\n",
    "pos_scores = sampleReviewsDict(1,1000,pos_files,[allDicts[0]],\"labMT-calibration-pos\",test=test_name)\n",
    "neg_scores = sampleReviewsDict(1,1000,neg_files,[allDicts[0]],\"labMT-calibration-neg\",test=test_name)"
   ]
  },
  {
   "cell_type": "code",
   "execution_count": 9,
   "metadata": {
    "collapsed": false
   },
   "outputs": [
    {
     "data": {
      "text/plain": [
       "1"
      ]
     },
     "execution_count": 9,
     "metadata": {},
     "output_type": "execute_result"
    }
   ],
   "source": [
    "len(pos_scores)"
   ]
  },
  {
   "cell_type": "code",
   "execution_count": 10,
   "metadata": {
    "collapsed": false
   },
   "outputs": [
    {
     "data": {
      "text/plain": [
       "1000"
      ]
     },
     "execution_count": 10,
     "metadata": {},
     "output_type": "execute_result"
    }
   ],
   "source": [
    "len(pos_scores[0])"
   ]
  },
  {
   "cell_type": "code",
   "execution_count": 11,
   "metadata": {
    "collapsed": false
   },
   "outputs": [
    {
     "data": {
      "text/plain": [
       "5.9980899297927133"
      ]
     },
     "execution_count": 11,
     "metadata": {},
     "output_type": "execute_result"
    }
   ],
   "source": [
    "np.mean(pos_scores[0])"
   ]
  },
  {
   "cell_type": "code",
   "execution_count": 12,
   "metadata": {
    "collapsed": false
   },
   "outputs": [
    {
     "data": {
      "text/plain": [
       "5.8191841590949318"
      ]
     },
     "execution_count": 12,
     "metadata": {},
     "output_type": "execute_result"
    }
   ],
   "source": [
    "np.mean(neg_scores[0])"
   ]
  },
  {
   "cell_type": "code",
   "execution_count": 13,
   "metadata": {
    "collapsed": false
   },
   "outputs": [],
   "source": [
    "average_score = np.mean(neg_scores[0]+pos_scores[0])"
   ]
  },
  {
   "cell_type": "code",
   "execution_count": 14,
   "metadata": {
    "collapsed": false
   },
   "outputs": [],
   "source": [
    "j = 0\n",
    "# fraction of scores across the mean\n",
    "overlap = float(len(np.where(pos_scores[j] < average_score)[0]) + len(np.where(neg_scores[j] > average_score)[0])) /(len(pos_scores[j])+len(neg_scores[j]))"
   ]
  },
  {
   "cell_type": "code",
   "execution_count": 15,
   "metadata": {
    "collapsed": false
   },
   "outputs": [
    {
     "name": "stdout",
     "output_type": "stream",
     "text": [
      "loading LabMT with stopVal=0.0, for 10222 words\n",
      "loading LabMT with stopVal=0.25, for 8076 words\n",
      "loading LabMT with stopVal=0.5, for 6422 words\n",
      "loading LabMT with stopVal=0.75, for 4919 words\n",
      "loading LabMT with stopVal=1.0, for 3731 words\n",
      "loading LabMT with stopVal=1.25, for 2756 words\n",
      "loading LabMT with stopVal=1.5, for 2031 words\n",
      "loading LabMT with stopVal=1.75, for 1428 words\n",
      "loading LabMT with stopVal=2.0, for 1008 words\n",
      "loading LabMT with stopVal=2.25, for 636 words\n",
      "loading LabMT with stopVal=2.5, for 363 words\n",
      "loading LabMT with stopVal=2.75, for 195 words\n",
      "loading LabMT with stopVal=3.0, for 77 words\n"
     ]
    }
   ],
   "source": [
    "allLabMT = [LabMT(stopVal=x) for x in np.arange(0,3.25,.25)]"
   ]
  },
  {
   "cell_type": "code",
   "execution_count": 16,
   "metadata": {
    "collapsed": false
   },
   "outputs": [],
   "source": [
    "pos_scores = sampleReviewsDict(1,1000,pos_files,allLabMT,\"labMT-calibration-pos\",test=\"\")\n",
    "neg_scores = sampleReviewsDict(1,1000,neg_files,allLabMT,\"labMT-calibration-neg\",test=\"\")"
   ]
  },
  {
   "cell_type": "code",
   "execution_count": 17,
   "metadata": {
    "collapsed": true
   },
   "outputs": [],
   "source": [
    "def overlap(p,n):\n",
    "    # pos scores and neg scores are lists of scores\n",
    "    # called p and n now\n",
    "    \n",
    "    # take the average\n",
    "    a = np.mean(n+p)\n",
    "    return float(len(np.where(p < a)[0]) + len(np.where(n > a)[0])) / (len(p+n))"
   ]
  },
  {
   "cell_type": "code",
   "execution_count": 18,
   "metadata": {
    "collapsed": false
   },
   "outputs": [],
   "source": [
    "labMT_cal = [overlap(pos_scores[j],neg_scores[j]) for j in range(len(allLabMT))]"
   ]
  },
  {
   "cell_type": "code",
   "execution_count": 19,
   "metadata": {
    "collapsed": false
   },
   "outputs": [
    {
     "data": {
      "text/plain": [
       "[0.3615,\n",
       " 0.343,\n",
       " 0.3475,\n",
       " 0.349,\n",
       " 0.3465,\n",
       " 0.3535,\n",
       " 0.3635,\n",
       " 0.3715,\n",
       " 0.3695,\n",
       " 0.385,\n",
       " 0.4235,\n",
       " 0.429,\n",
       " 0.452]"
      ]
     },
     "execution_count": 19,
     "metadata": {},
     "output_type": "execute_result"
    }
   ],
   "source": [
    "labMT_cal"
   ]
  },
  {
   "cell_type": "code",
   "execution_count": 20,
   "metadata": {
    "collapsed": false
   },
   "outputs": [
    {
     "data": {
      "text/plain": [
       "[<matplotlib.lines.Line2D at 0x11a06b160>]"
      ]
     },
     "execution_count": 20,
     "metadata": {},
     "output_type": "execute_result"
    },
    {
     "data": {
      "image/png": "[encoded data removed]",
      "text/plain": [
       "<matplotlib.figure.Figure at 0x11a070dd8>"
      ]
     },
     "metadata": {},
     "output_type": "display_data"
    }
   ],
   "source": [
    "fig = plt.figure()\n",
    "ax1 = fig.add_axes([0.15,0.2,0.7,0.7])\n",
    "ax1.plot(np.arange(0,3.25,.25),labMT_cal)\n"
   ]
  },
  {
   "cell_type": "code",
   "execution_count": 21,
   "metadata": {
    "collapsed": true
   },
   "outputs": [],
   "source": [
    "def calibrate(my_senti,my_range):\n",
    "    flip = \"pos\"\n",
    "    pos_files = [\"../data/moviereviews/txt_sentoken/{0}/{1}\".format(flip,x.replace(\".txt\",\"\"))\n",
    "                 for x in listdir(\"../data/moviereviews/txt_sentoken/{0}/\".format(flip)) if \".txt\" in x]\n",
    "    flip = \"neg\"\n",
    "    neg_files = [\"../data/moviereviews/txt_sentoken/{0}/{1}\".format(flip,x.replace(\".txt\",\"\"))\n",
    "                 for x in listdir(\"../data/moviereviews/txt_sentoken/{0}/\".format(flip)) if \".txt\" in x]\n",
    "    all_senti = [my_senti(stopVal=x) for x in my_range]\n",
    "    pos_scores = sampleReviewsDict(1,1000,pos_files,all_senti,\"{}-calibration-pos\".format(my_senti.title),test=\"\")\n",
    "    neg_scores = sampleReviewsDict(1,1000,neg_files,all_senti,\"{}-calibration-neg\".format(my_senti.title),test=\"\")\n",
    "    my_cal = [overlap(pos_scores[j],neg_scores[j]) for j in range(len(all_senti))]\n",
    "#     fig = plt.figure()\n",
    "#     ax1 = fig.add_axes([0.15,0.2,0.7,0.7])\n",
    "#     ax1.plot(my_range,my_cal)\n",
    "#     ax1.set_title(\"{} Calibration\".format(my_senti.title))\n",
    "    return my_cal"
   ]
  },
  {
   "cell_type": "code",
   "execution_count": 22,
   "metadata": {
    "collapsed": false
   },
   "outputs": [
    {
     "name": "stdout",
     "output_type": "stream",
     "text": [
      "loading LabMT with stopVal=0.0, for 10222 words\n",
      "loading LabMT with stopVal=0.25, for 8076 words\n",
      "loading LabMT with stopVal=0.5, for 6422 words\n",
      "loading LabMT with stopVal=0.75, for 4919 words\n",
      "loading LabMT with stopVal=1.0, for 3731 words\n",
      "loading LabMT with stopVal=1.25, for 2756 words\n",
      "loading LabMT with stopVal=1.5, for 2031 words\n",
      "loading LabMT with stopVal=1.75, for 1428 words\n",
      "loading LabMT with stopVal=2.0, for 1008 words\n",
      "loading LabMT with stopVal=2.25, for 636 words\n",
      "loading LabMT with stopVal=2.5, for 363 words\n",
      "loading LabMT with stopVal=2.75, for 195 words\n",
      "loading LabMT with stopVal=3.0, for 77 words\n"
     ]
    },
    {
     "data": {
      "text/plain": [
       "[0.3615,\n",
       " 0.343,\n",
       " 0.3475,\n",
       " 0.349,\n",
       " 0.3465,\n",
       " 0.3535,\n",
       " 0.3635,\n",
       " 0.3715,\n",
       " 0.3695,\n",
       " 0.385,\n",
       " 0.4235,\n",
       " 0.429,\n",
       " 0.452]"
      ]
     },
     "execution_count": 22,
     "metadata": {},
     "output_type": "execute_result"
    }
   ],
   "source": [
    "calibrate(LabMT,np.arange(0,3.25,.25))"
   ]
  },
  {
   "cell_type": "code",
   "execution_count": 23,
   "metadata": {
    "collapsed": false
   },
   "outputs": [
    {
     "name": "stdout",
     "output_type": "stream",
     "text": [
      "loading LabMT with stopVal=0.0, for 10222 words\n",
      "loading LabMT with stopVal=0.25, for 8076 words\n",
      "loading LabMT with stopVal=0.5, for 6422 words\n",
      "loading LabMT with stopVal=0.75, for 4919 words\n",
      "loading LabMT with stopVal=1.0, for 3731 words\n",
      "loading LabMT with stopVal=1.25, for 2756 words\n",
      "loading LabMT with stopVal=1.5, for 2031 words\n",
      "loading LabMT with stopVal=1.75, for 1428 words\n",
      "loading LabMT with stopVal=2.0, for 1008 words\n"
     ]
    },
    {
     "data": {
      "text/plain": [
       "[0.3615, 0.343, 0.3475, 0.349, 0.3465, 0.3535, 0.3635, 0.3715, 0.3695]"
      ]
     },
     "execution_count": 23,
     "metadata": {},
     "output_type": "execute_result"
    }
   ],
   "source": [
    "calibrate(LabMT,np.arange(0,2.25,.25))"
   ]
  },
  {
   "cell_type": "code",
   "execution_count": 24,
   "metadata": {
    "collapsed": false
   },
   "outputs": [
    {
     "name": "stdout",
     "output_type": "stream",
     "text": [
      "loading LabMT with stopVal=0.0, for 10222 words\n",
      "loading LabMT with stopVal=0.1, for 9190 words\n",
      "loading LabMT with stopVal=0.2, for 8534 words\n",
      "loading LabMT with stopVal=0.30000000000000004, for 7628 words\n",
      "loading LabMT with stopVal=0.4, for 7088 words\n",
      "loading LabMT with stopVal=0.5, for 6422 words\n",
      "loading LabMT with stopVal=0.6000000000000001, for 5690 words\n",
      "loading LabMT with stopVal=0.7000000000000001, for 5217 words\n",
      "loading LabMT with stopVal=0.8, for 4577 words\n",
      "loading LabMT with stopVal=0.9, for 4205 words\n",
      "loading LabMT with stopVal=1.0, for 3731 words\n",
      "loading LabMT with stopVal=1.1, for 3274 words\n",
      "loading LabMT with stopVal=1.2000000000000002, for 2969 words\n",
      "loading LabMT with stopVal=1.3, for 2577 words\n",
      "loading LabMT with stopVal=1.4000000000000001, for 2300 words\n",
      "loading LabMT with stopVal=1.5, for 2031 words\n",
      "loading LabMT with stopVal=1.6, for 1735 words\n",
      "loading LabMT with stopVal=1.7000000000000002, for 1539 words\n",
      "loading LabMT with stopVal=1.8, for 1316 words\n",
      "loading LabMT with stopVal=1.9000000000000001, for 1151 words\n",
      "loading LabMT with stopVal=2.0, for 1008 words\n",
      "loading LabMT with stopVal=2.1, for 844 words\n",
      "loading LabMT with stopVal=2.2, for 717 words\n",
      "loading LabMT with stopVal=2.3000000000000003, for 564 words\n",
      "loading LabMT with stopVal=2.4000000000000004, for 464 words\n"
     ]
    },
    {
     "data": {
      "text/plain": [
       "[0.3615,\n",
       " 0.359,\n",
       " 0.3535,\n",
       " 0.3435,\n",
       " 0.349,\n",
       " 0.3475,\n",
       " 0.346,\n",
       " 0.3515,\n",
       " 0.3465,\n",
       " 0.3475,\n",
       " 0.3465,\n",
       " 0.3515,\n",
       " 0.354,\n",
       " 0.357,\n",
       " 0.3675,\n",
       " 0.3635,\n",
       " 0.3785,\n",
       " 0.3685,\n",
       " 0.374,\n",
       " 0.3675,\n",
       " 0.3695,\n",
       " 0.3725,\n",
       " 0.3815,\n",
       " 0.387,\n",
       " 0.41]"
      ]
     },
     "execution_count": 24,
     "metadata": {},
     "output_type": "execute_result"
    }
   ],
   "source": [
    "calibrate(LabMT,np.arange(0,2.5,.1))"
   ]
  },
  {
   "cell_type": "code",
   "execution_count": 25,
   "metadata": {
    "collapsed": false
   },
   "outputs": [
    {
     "name": "stdout",
     "output_type": "stream",
     "text": [
      "loading ANEW with stopVal=0.0, for 1034 words\n",
      "loading ANEW with stopVal=0.1, for 1003 words\n",
      "loading ANEW with stopVal=0.2, for 972 words\n",
      "loading ANEW with stopVal=0.30000000000000004, for 928 words\n",
      "loading ANEW with stopVal=0.4, for 907 words\n",
      "loading ANEW with stopVal=0.5, for 885 words\n",
      "loading ANEW with stopVal=0.6000000000000001, for 858 words\n",
      "loading ANEW with stopVal=0.7000000000000001, for 831 words\n",
      "loading ANEW with stopVal=0.8, for 806 words\n",
      "loading ANEW with stopVal=0.9, for 788 words\n",
      "loading ANEW with stopVal=1.0, for 765 words\n",
      "loading ANEW with stopVal=1.1, for 736 words\n",
      "loading ANEW with stopVal=1.2000000000000002, for 716 words\n",
      "loading ANEW with stopVal=1.3, for 690 words\n",
      "loading ANEW with stopVal=1.4000000000000001, for 667 words\n",
      "loading ANEW with stopVal=1.5, for 636 words\n",
      "loading ANEW with stopVal=1.6, for 609 words\n",
      "loading ANEW with stopVal=1.7000000000000002, for 571 words\n",
      "loading ANEW with stopVal=1.8, for 530 words\n",
      "loading ANEW with stopVal=1.9000000000000001, for 492 words\n",
      "loading ANEW with stopVal=2.0, for 458 words\n",
      "loading ANEW with stopVal=2.1, for 415 words\n",
      "loading ANEW with stopVal=2.2, for 375 words\n",
      "loading ANEW with stopVal=2.3000000000000003, for 330 words\n",
      "loading ANEW with stopVal=2.4000000000000004, for 305 words\n"
     ]
    },
    {
     "data": {
      "text/plain": [
       "[0.434,\n",
       " 0.4365,\n",
       " 0.433,\n",
       " 0.439,\n",
       " 0.438,\n",
       " 0.437,\n",
       " 0.442,\n",
       " 0.4435,\n",
       " 0.4465,\n",
       " 0.449,\n",
       " 0.4495,\n",
       " 0.446,\n",
       " 0.4465,\n",
       " 0.444,\n",
       " 0.446,\n",
       " 0.441,\n",
       " 0.4435,\n",
       " 0.4415,\n",
       " 0.4445,\n",
       " 0.4425,\n",
       " 0.4425,\n",
       " 0.4545,\n",
       " 0.451,\n",
       " 0.464,\n",
       " 0.4605]"
      ]
     },
     "execution_count": 25,
     "metadata": {},
     "output_type": "execute_result"
    }
   ],
   "source": [
    "calibrate(ANEW,np.arange(0,2.5,.1))"
   ]
  },
  {
   "cell_type": "code",
   "execution_count": 26,
   "metadata": {
    "collapsed": false
   },
   "outputs": [
    {
     "name": "stdout",
     "output_type": "stream",
     "text": [
      "loading data/LIWC/LIWC2007_English100131_words.dic\n",
      "loading LIWC with stopVal=0, for 4483 words\n",
      "loading data/LIWC/LIWC2007_English100131_words.dic\n",
      "loading LIWC with stopVal=0.5, for 906 words\n"
     ]
    },
    {
     "data": {
      "text/plain": [
       "[0.347, 0.3435]"
      ]
     },
     "execution_count": 26,
     "metadata": {},
     "output_type": "execute_result"
    }
   ],
   "source": [
    "calibrate(LIWC,[0,.5])"
   ]
  },
  {
   "cell_type": "code",
   "execution_count": 27,
   "metadata": {
    "collapsed": false
   },
   "outputs": [
    {
     "name": "stdout",
     "output_type": "stream",
     "text": [
      "loading MPQA with stopVal=0, for 7192 words\n",
      "loading MPQA with stopVal=0.5, for 6735 words\n"
     ]
    },
    {
     "data": {
      "text/plain": [
       "[0.341, 0.3385]"
      ]
     },
     "execution_count": 27,
     "metadata": {},
     "output_type": "execute_result"
    }
   ],
   "source": [
    "calibrate(MPQA,[0,.5])"
   ]
  },
  {
   "cell_type": "code",
   "execution_count": 28,
   "metadata": {
    "collapsed": false,
    "scrolled": false
   },
   "outputs": [
    {
     "name": "stdout",
     "output_type": "stream",
     "text": [
      "loading LabMT with stopVal=0.0, for 10222 words\n",
      "loading LabMT with stopVal=0.1, for 9190 words\n",
      "loading LabMT with stopVal=0.2, for 8534 words\n",
      "loading LabMT with stopVal=0.30000000000000004, for 7628 words\n",
      "loading LabMT with stopVal=0.4, for 7088 words\n",
      "loading LabMT with stopVal=0.5, for 6422 words\n",
      "loading LabMT with stopVal=0.6000000000000001, for 5690 words\n",
      "loading LabMT with stopVal=0.7000000000000001, for 5217 words\n",
      "loading LabMT with stopVal=0.8, for 4577 words\n",
      "loading LabMT with stopVal=0.9, for 4205 words\n",
      "loading LabMT with stopVal=1.0, for 3731 words\n",
      "loading LabMT with stopVal=1.1, for 3274 words\n",
      "loading LabMT with stopVal=1.2000000000000002, for 2969 words\n",
      "loading LabMT with stopVal=1.3, for 2577 words\n",
      "loading LabMT with stopVal=1.4000000000000001, for 2300 words\n",
      "loading LabMT with stopVal=1.5, for 2031 words\n",
      "loading LabMT with stopVal=1.6, for 1735 words\n",
      "loading LabMT with stopVal=1.7000000000000002, for 1539 words\n",
      "loading LabMT with stopVal=1.8, for 1316 words\n",
      "loading LabMT with stopVal=1.9000000000000001, for 1151 words\n",
      "loading LabMT with stopVal=2.0, for 1008 words\n",
      "loading LabMT with stopVal=2.1, for 844 words\n",
      "loading LabMT with stopVal=2.2, for 717 words\n",
      "loading LabMT with stopVal=2.3000000000000003, for 564 words\n",
      "loading LabMT with stopVal=2.4000000000000004, for 464 words\n",
      "loading ANEW with stopVal=0.0, for 1034 words\n",
      "loading ANEW with stopVal=0.1, for 1003 words\n",
      "loading ANEW with stopVal=0.2, for 972 words\n",
      "loading ANEW with stopVal=0.30000000000000004, for 928 words\n",
      "loading ANEW with stopVal=0.4, for 907 words\n",
      "loading ANEW with stopVal=0.5, for 885 words\n",
      "loading ANEW with stopVal=0.6000000000000001, for 858 words\n",
      "loading ANEW with stopVal=0.7000000000000001, for 831 words\n",
      "loading ANEW with stopVal=0.8, for 806 words\n",
      "loading ANEW with stopVal=0.9, for 788 words\n",
      "loading ANEW with stopVal=1.0, for 765 words\n",
      "loading ANEW with stopVal=1.1, for 736 words\n",
      "loading ANEW with stopVal=1.2000000000000002, for 716 words\n",
      "loading ANEW with stopVal=1.3, for 690 words\n",
      "loading ANEW with stopVal=1.4000000000000001, for 667 words\n",
      "loading ANEW with stopVal=1.5, for 636 words\n",
      "loading ANEW with stopVal=1.6, for 609 words\n",
      "loading ANEW with stopVal=1.7000000000000002, for 571 words\n",
      "loading ANEW with stopVal=1.8, for 530 words\n",
      "loading ANEW with stopVal=1.9000000000000001, for 492 words\n",
      "loading ANEW with stopVal=2.0, for 458 words\n",
      "loading ANEW with stopVal=2.1, for 415 words\n",
      "loading ANEW with stopVal=2.2, for 375 words\n",
      "loading ANEW with stopVal=2.3000000000000003, for 330 words\n",
      "loading ANEW with stopVal=2.4000000000000004, for 305 words\n",
      "loading WK with stopVal=0.0, for 13915 words\n",
      "loading WK with stopVal=0.1, for 12991 words\n",
      "loading WK with stopVal=0.2, for 12237 words\n",
      "loading WK with stopVal=0.30000000000000004, for 11206 words\n",
      "loading WK with stopVal=0.4, for 10448 words\n",
      "loading WK with stopVal=0.5, for 9675 words\n",
      "loading WK with stopVal=0.6000000000000001, for 8746 words\n",
      "loading WK with stopVal=0.7000000000000001, for 8140 words\n",
      "loading WK with stopVal=0.8, for 7374 words\n",
      "loading WK with stopVal=0.9, for 6859 words\n",
      "loading WK with stopVal=1.0, for 6335 words\n",
      "loading WK with stopVal=1.1, for 5644 words\n",
      "loading WK with stopVal=1.2000000000000002, for 5098 words\n",
      "loading WK with stopVal=1.3, for 4565 words\n",
      "loading WK with stopVal=1.4000000000000001, for 4116 words\n",
      "loading WK with stopVal=1.5, for 3674 words\n",
      "loading WK with stopVal=1.6, for 3231 words\n",
      "loading WK with stopVal=1.7000000000000002, for 2861 words\n",
      "loading WK with stopVal=1.8, for 2447 words\n",
      "loading WK with stopVal=1.9000000000000001, for 2099 words\n",
      "loading WK with stopVal=2.0, for 1897 words\n",
      "loading WK with stopVal=2.1, for 1546 words\n",
      "loading WK with stopVal=2.2, for 1280 words\n",
      "loading WK with stopVal=2.3000000000000003, for 1017 words\n",
      "loading WK with stopVal=2.4000000000000004, for 819 words\n",
      "loading MPQA with stopVal=0, for 7192 words\n",
      "loading MPQA with stopVal=0.5, for 6735 words\n",
      "loading data/LIWC/LIWC2007_English100131_words.dic\n",
      "loading LIWC with stopVal=0, for 4483 words\n",
      "loading data/LIWC/LIWC2007_English100131_words.dic\n",
      "loading LIWC with stopVal=0.5, for 906 words\n",
      "loading Liu with stopVal=0, for 6782 words\n",
      "loading PANAS-X with stopVal=0, for 20 words\n",
      "loading Pattern with stopVal=0.0, for 1528 words\n",
      "loading Pattern with stopVal=0.1, for 1203 words\n",
      "loading Pattern with stopVal=0.2, for 982 words\n",
      "loading Pattern with stopVal=0.30000000000000004, for 713 words\n",
      "loading Pattern with stopVal=0.4, for 665 words\n",
      "loading Pattern with stopVal=0.5, for 535 words\n",
      "loading Pattern with stopVal=0.6000000000000001, for 186 words\n",
      "loading SentiWordNet with stopVal=0.0, for 147700 words\n",
      "loading SentiWordNet with stopVal=0.1, for 20173 words\n",
      "loading SentiWordNet with stopVal=0.2, for 11378 words\n",
      "loading SentiWordNet with stopVal=0.30000000000000004, for 6483 words\n",
      "loading SentiWordNet with stopVal=0.4, for 3370 words\n",
      "loading SentiWordNet with stopVal=0.5, for 3118 words\n",
      "loading SentiWordNet with stopVal=0.6000000000000001, for 1257 words\n",
      "loading SentiWordNet with stopVal=0.7000000000000001, for 384 words\n",
      "loading SentiWordNet with stopVal=0.8, for 113 words\n",
      "loading SentiWordNet with stopVal=0.9, for 22 words\n",
      "loading AFINN with stopVal=0.5, for 2476 words\n",
      "loading AFINN with stopVal=1.5, for 1959 words\n",
      "loading AFINN with stopVal=2.5, for 545 words\n",
      "loading AFINN with stopVal=3.5, for 109 words\n",
      "oops, deal is both pos and negative\n",
      "oops, fine is both pos and negative\n",
      "oops, fine is both pos and negative\n",
      "oops, fun is both pos and negative\n",
      "oops, help is both pos and negative\n",
      "oops, laugh is both pos and negative\n",
      "oops, matter is both pos and negative\n",
      "oops, order is both pos and negative\n",
      "oops, particular is both pos and negative\n",
      "oops, pass is both pos and negative\n",
      "loading General Inquirer with stopVal=0, for 3629 words\n",
      "loading Whissel's Dictionary of Affective Language with stopVal=0.0, for 8743 words\n",
      "loading Whissel's Dictionary of Affective Language with stopVal=0.1, for 7637 words\n",
      "loading Whissel's Dictionary of Affective Language with stopVal=0.2, for 6242 words\n",
      "loading Whissel's Dictionary of Affective Language with stopVal=0.30000000000000004, for 5245 words\n",
      "loading Whissel's Dictionary of Affective Language with stopVal=0.4, for 3793 words\n",
      "loading Whissel's Dictionary of Affective Language with stopVal=0.5, for 3699 words\n",
      "loading Whissel's Dictionary of Affective Language with stopVal=0.6000000000000001, for 2476 words\n",
      "loading Whissel's Dictionary of Affective Language with stopVal=0.7000000000000001, for 1884 words\n",
      "loading Whissel's Dictionary of Affective Language with stopVal=0.8, for 1358 words\n",
      "loading Whissel's Dictionary of Affective Language with stopVal=0.9, for 997 words\n",
      "loading NRC with stopVal=0.0, for 1220176 words\n",
      "loading NRC with stopVal=0.5, for 806734 words\n",
      "loading NRC with stopVal=1.0, for 564081 words\n",
      "loading NRC with stopVal=1.5, for 439254 words\n",
      "loading NRC with stopVal=2.0, for 392189 words\n",
      "loading NRC with stopVal=2.5, for 377878 words\n",
      "loading NRC with stopVal=3.0, for 373279 words\n"
     ]
    }
   ],
   "source": [
    "calibrated_results = []\n",
    "calibrated_delh = []\n",
    "for my_senti_dict,cal_range in zip([LabMT,ANEW,WK,MPQA,LIWC,Liu,PANASX,pattern,sentiWordNet,AFINN,GI,WDAL,NRC],\n",
    "                                   [np.arange(0,2.5,.1),np.arange(0,2.5,.1),np.arange(0,2.5,.1),[0,0.5],[0,0.5],[0],\n",
    "                                    [0],np.arange(0,.7,.1),np.arange(0,1,.1),np.arange(.5,4.5,1.0),[0],np.arange(0,1,.1),\n",
    "                                    np.arange(0,3.5,.5)]):\n",
    "    a = calibrate(my_senti_dict,cal_range)\n",
    "    calibrated_results.append(np.min(a))\n",
    "    calibrated_delh.append(cal_range[np.where(a == np.min(a))[0][0]])"
   ]
  },
  {
   "cell_type": "code",
   "execution_count": 29,
   "metadata": {
    "collapsed": false
   },
   "outputs": [],
   "source": [
    "all_senti_dicts = [LabMT,ANEW,WK,MPQA,LIWC,Liu,PANASX,pattern,sentiWordNet,AFINN,GI,WDAL,NRC]\n",
    "indexer = sorted(range(len(calibrated_results)),key=lambda i: calibrated_results[i])\n",
    "calibrated_results_sorted = [calibrated_results[i] for i in indexer]\n",
    "calibrated_delh_sorted = [calibrated_delh[i] for i in indexer]\n",
    "all_senti_dicts_sorted = [all_senti_dicts[i] for i in indexer]"
   ]
  },
  {
   "cell_type": "code",
   "execution_count": 30,
   "metadata": {
    "collapsed": false
   },
   "outputs": [],
   "source": [
    "f = open(\"all-reviews-table.tex\",\"w\")\n",
    "f.write(r\"\"\"\\begin{tabular*}{\\hsize}{ l | l | l | l }\n",
    "    \\hline\n",
    "    Rank & Dictionary & $\\Delta_h$ & Accuracy \\\\\n",
    "    \\hline\n",
    "    \\hline\n",
    "\"\"\")\n",
    "for i,c,n,h in zip(range(len(calibrated_results)),calibrated_results_sorted,all_senti_dicts_sorted,calibrated_delh_sorted):\n",
    "    # print(\"{0:.1f} for {1} ({2:.2f})\".format((1-c)*100,n.title,h))\n",
    "    # declare ties\n",
    "    if i>0:\n",
    "        if calibrated_results_sorted[i] == calibrated_results_sorted[i-1]:\n",
    "            rank=i\n",
    "        else:\n",
    "            rank=i+1\n",
    "    else:\n",
    "        rank=1\n",
    "    f.write(\"{0} & {1} & {2:.2f} % {3:.1f} \\\\\\\\ \\n\".format(rank,n.title,h,(1-c)*100))\n",
    "f.write(\"\\end{tabular*}\")\n",
    "f.close()"
   ]
  },
  {
   "cell_type": "code",
   "execution_count": 31,
   "metadata": {
    "collapsed": false
   },
   "outputs": [
    {
     "ename": "NameError",
     "evalue": "name 'my_GI' is not defined",
     "output_type": "error",
     "traceback": [
      "\u001b[0;31m---------------------------------------------------------------------------\u001b[0m",
      "\u001b[0;31mNameError\u001b[0m                                 Traceback (most recent call last)",
      "\u001b[0;32m<ipython-input-31-fb3d676b7969>\u001b[0m in \u001b[0;36m<module>\u001b[0;34m()\u001b[0m\n\u001b[0;32m----> 1\u001b[0;31m \u001b[0mGI_pos_count\u001b[0m \u001b[0;34m=\u001b[0m \u001b[0mlen\u001b[0m\u001b[0;34m(\u001b[0m\u001b[0;34m[\u001b[0m\u001b[0mword\u001b[0m \u001b[0;32mfor\u001b[0m \u001b[0mword\u001b[0m \u001b[0;32min\u001b[0m \u001b[0mmy_GI\u001b[0m\u001b[0;34m.\u001b[0m\u001b[0mdata\u001b[0m \u001b[0;32mif\u001b[0m \u001b[0mmy_GI\u001b[0m\u001b[0;34m.\u001b[0m\u001b[0mdata\u001b[0m\u001b[0;34m[\u001b[0m\u001b[0mword\u001b[0m\u001b[0;34m]\u001b[0m\u001b[0;34m[\u001b[0m\u001b[0;36m1\u001b[0m\u001b[0;34m]\u001b[0m \u001b[0;34m>\u001b[0m \u001b[0;36m0\u001b[0m\u001b[0;34m]\u001b[0m\u001b[0;34m)\u001b[0m\u001b[0;34m\u001b[0m\u001b[0m\n\u001b[0m",
      "\u001b[0;31mNameError\u001b[0m: name 'my_GI' is not defined"
     ]
    }
   ],
   "source": [
    "GI_pos_count = len([word for word in my_GI.data if my_GI.data[word][1] > 0])"
   ]
  },
  {
   "cell_type": "code",
   "execution_count": null,
   "metadata": {
    "collapsed": true
   },
   "outputs": [],
   "source": [
    "GI_neg_count = len([word for word in my_GI.data if my_GI.data[word][1] < 0])"
   ]
  },
  {
   "cell_type": "code",
   "execution_count": null,
   "metadata": {
    "collapsed": false
   },
   "outputs": [],
   "source": [
    "GI_pos_count"
   ]
  },
  {
   "cell_type": "code",
   "execution_count": null,
   "metadata": {
    "collapsed": false
   },
   "outputs": [],
   "source": [
    "GI_neg_count"
   ]
  },
  {
   "cell_type": "code",
   "execution_count": null,
   "metadata": {
    "collapsed": false
   },
   "outputs": [],
   "source": [
    "pattern()"
   ]
  },
  {
   "cell_type": "code",
   "execution_count": null,
   "metadata": {
    "collapsed": true
   },
   "outputs": [],
   "source": [
    "a = [.1,.5,.7]"
   ]
  },
  {
   "cell_type": "code",
   "execution_count": null,
   "metadata": {
    "collapsed": false
   },
   "outputs": [],
   "source": [
    "np.min(a)"
   ]
  },
  {
   "cell_type": "code",
   "execution_count": null,
   "metadata": {
    "collapsed": false
   },
   "outputs": [],
   "source": [
    "np.where(a == np.min(a))[0][0]"
   ]
  },
  {
   "cell_type": "code",
   "execution_count": null,
   "metadata": {
    "collapsed": true
   },
   "outputs": [],
   "source": []
  }
 ],
 "metadata": {
  "kernelspec": {
   "display_name": "Python 3",
   "language": "python",
   "name": "python3"
  },
  "language_info": {
   "codemirror_mode": {
    "name": "ipython",
    "version": 3
   },
   "file_extension": ".py",
   "mimetype": "text/x-python",
   "name": "python",
   "nbconvert_exporter": "python",
   "pygments_lexer": "ipython3",
   "version": "3.5.1"
  }
 },
 "nbformat": 4,
 "nbformat_minor": 0
}
