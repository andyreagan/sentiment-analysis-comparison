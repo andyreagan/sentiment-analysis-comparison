{
 "cells": [
  {
   "cell_type": "markdown",
   "metadata": {},
   "source": [
    "# plot the coverage of each dataset"
   ]
  },
  {
   "cell_type": "code",
   "execution_count": 100,
   "metadata": {
    "collapsed": false
   },
   "outputs": [
    {
     "name": "stdout",
     "output_type": "stream",
     "text": [
      "4125283\n",
      "3662721\n",
      "686656\n",
      "612912\n"
     ]
    }
   ],
   "source": [
    "# load some stuff\n",
    "from os import listdir\n",
    "import re\n",
    "posfiles = [\"testdata/moviereviews/txt_sentoken/pos/\"+x for x in listdir(\"testdata/moviereviews/txt_sentoken/pos\")]\n",
    "negfiles = [\"testdata/moviereviews/txt_sentoken/neg/\"+x for x in listdir(\"testdata/moviereviews/txt_sentoken/neg\")]\n",
    "postext = ''\n",
    "for file in posfiles:\n",
    "    f = open(file,\"r\")\n",
    "    postext += f.read() + \" \"\n",
    "    f.close()\n",
    "poswords = [x.lower() for x 1in re.findall(r\"[\\w\\@\\#\\'\\&\\]\\*\\-\\/\\[\\=\\;]+\",postext,flags=re.UNICODE)]\n",
    "negtext = ''\n",
    "for file in negfiles:\n",
    "    f = open(file,\"r\")\n",
    "    negtext += f.read() + \" \"\n",
    "    f.close()\n",
    "negwords = [x.lower() for x in re.findall(r\"[\\w\\@\\#\\'\\&\\]\\*\\-\\/\\[\\=\\;]+\",negtext,flags=re.UNICODE)]\n",
    "print len(postext)\n",
    "print len(negtext)\n",
    "print len(poswords)\n",
    "print len(negwords)"
   ]
  },
  {
   "cell_type": "code",
   "execution_count": 101,
   "metadata": {
    "collapsed": false
   },
   "outputs": [
    {
     "name": "stdout",
     "output_type": "stream",
     "text": [
      "36596\n",
      "34346\n",
      "50559\n"
     ]
    }
   ],
   "source": [
    "# make a ranked list of the words\n",
    "poswordcounts = dict()\n",
    "allwordcounts = dict()\n",
    "for word in poswords:\n",
    "    if word in poswordcounts:\n",
    "        poswordcounts[word] += 1\n",
    "        allwordcounts[word] += 1\n",
    "    else:\n",
    "        poswordcounts[word] = 1\n",
    "        allwordcounts[word] = 1\n",
    "negwordcounts = dict()\n",
    "for word in negwords:\n",
    "    if word in negwordcounts:\n",
    "        negwordcounts[word] += 1\n",
    "        allwordcounts[word] += 1\n",
    "    else:\n",
    "        negwordcounts[word] = 1\n",
    "        allwordcounts[word] = 1\n",
    "print len(poswordcounts)\n",
    "print len(negwordcounts)\n",
    "print len(allwordcounts)"
   ]
  },
  {
   "cell_type": "code",
   "execution_count": 102,
   "metadata": {
    "collapsed": false
   },
   "outputs": [],
   "source": [
    "# rip those dictionaries into lists for sorting\n",
    "allwordsList = [word for word in allwordcounts]\n",
    "allcountsList = [allwordcounts[allwordsList[i]] for i in xrange(len(allwordsList))]"
   ]
  },
  {
   "cell_type": "code",
   "execution_count": 103,
   "metadata": {
    "collapsed": false
   },
   "outputs": [
    {
     "name": "stdout",
     "output_type": "stream",
     "text": [
      "[34910, 17822, 15568, 15421, 15325, 11119, 9981, 7356, 5885, 4936]\n",
      "['the', 'a', 'and', 'of', 'to', 'is', 'in', 'that', 'it', 'with']\n"
     ]
    },
    {
     "data": {
      "text/plain": [
       "<matplotlib.text.Text at 0x1128c9a10>"
      ]
     },
     "execution_count": 103,
     "metadata": {},
     "output_type": "execute_result"
    },
    {
     "data": {
      "image/png": "[encoded data removed]",
      "text/plain": [
       "<matplotlib.figure.Figure at 0x11121bfd0>"
      ]
     },
     "metadata": {},
     "output_type": "display_data"
    }
   ],
   "source": [
    "# sort them\n",
    "indexer = sorted(range(len(allcountsList)), key=lambda k: allcountsList[k], reverse=True)\n",
    "allcountsListSorted = [allcountsList[i] for i in indexer]\n",
    "allwordsListSorted = [allwordsList[i] for i in indexer]\n",
    "print allcountsListSorted[0:10]\n",
    "print allwordsListSorted[0:10]\n",
    "\n",
    "import matplotlib.pyplot as plt\n",
    "%matplotlib inline\n",
    "import numpy as np\n",
    "plt.plot(np.log10(range(len(allcountsListSorted))),np.log10(allcountsListSorted))\n",
    "plt.title('log-log word count distribution')"
   ]
  },
  {
   "cell_type": "code",
   "execution_count": 104,
   "metadata": {
    "collapsed": false
   },
   "outputs": [
    {
     "name": "stdout",
     "output_type": "stream",
     "text": [
      "['126', '127', \"abandon[a-z']*\", \"abuse[a-z']*\", \"abusi[a-z']*\", 'accept', \"accepta[a-z']*\", 'accepted', 'accepting', 'accepts']\n",
      "[1, -1, -1, -1, -1, 1, 1, 1, 1, 1]\n"
     ]
    }
   ],
   "source": [
    "print LIWCwords[0:10]\n",
    "print LIWCscores[0:10]\n",
    "\n",
    "# we can test coverage now anyway (the stems are the hardest part)\n",
    "for i in xrange(len(allwordsListSorted)):\n",
    "    word = allwordsListSorted[i]"
   ]
  },
  {
   "cell_type": "code",
   "execution_count": 133,
   "metadata": {
    "collapsed": false
   },
   "outputs": [
    {
     "name": "stdout",
     "output_type": "stream",
     "text": [
      "10222\n",
      "1030\n",
      "909\n",
      "blood is both neutral and negative\n",
      "declaring it neutral\n",
      "boast is both positive and negative\n",
      "declaring it neutral\n",
      "conscience is both neutral and positive\n",
      "declaring it neutral\n",
      "deep is both neutral and negative\n",
      "declaring it neutral\n",
      "destiny is both positive and neutral\n",
      "declaring it neutral\n",
      "dig is both negative and positive\n",
      "declaring it neutral\n",
      "excuse is both negative and positive\n",
      "declaring it neutral\n",
      "fine is both positive and negative\n",
      "declaring it neutral\n",
      "fun is both negative and positive\n",
      "declaring it neutral\n",
      "intimate is both positive and neutral\n",
      "declaring it neutral\n",
      "intrigue is both positive and neutral\n",
      "declaring it neutral\n",
      "keen is both positive and negative\n",
      "declaring it neutral\n",
      "keen is both neutral and negative\n",
      "declaring it neutral\n",
      "large is both neutral and positive\n",
      "declaring it neutral\n",
      "large is both neutral and positive\n",
      "declaring it neutral\n",
      "mean is both negative and neutral\n",
      "declaring it neutral\n",
      "might is both neutral and positive\n",
      "declaring it neutral\n",
      "need is both negative and neutral\n",
      "declaring it neutral\n",
      "precious is both positive and neutral\n",
      "declaring it neutral\n",
      "precious is both neutral and positive\n",
      "declaring it neutral\n",
      "regard is both positive and neutral\n",
      "declaring it neutral\n",
      "taste is both positive and neutral\n",
      "declaring it neutral\n",
      "6886\n",
      "6786\n"
     ]
    }
   ],
   "source": [
    "# load all of the lists of words\n",
    "# sort by valence if more than just +1/-1\n",
    "# else sort by alphabetical\n",
    "\n",
    "# cheat on loading the labMT list\n",
    "from labMTsimple.storyLab import emotionFileReader\n",
    "lang = \"english\"\n",
    "labMT,labMTvector,labMTwordList = emotionFileReader(stopval=0.0,fileName='labMT2'+lang+'.txt',returnVector=True)\n",
    "print len(labMT)\n",
    "labMTscores = labMTvector\n",
    "labMTwords = labMTwordList\n",
    "labMTwords[labMTwords.index(\"*estimated\")] = \"\\*estimated\"\n",
    "labMTwords[labMTwords.index(\"**municipal\")] = \"\\*\\*municipal\"\n",
    "labMTwordsRE = map(re.compile,map(lambda x: \"^\"+x+\"$\",labMTwords))\n",
    "\n",
    "ANEW = dict()\n",
    "f = open(\"ANEW/all.csv\")\n",
    "f.readline()\n",
    "for line in f:\n",
    "    l = line.rstrip().split(\",\")\n",
    "    ANEW[l[0]] = l[1:]\n",
    "f.close()\n",
    "print len(ANEW)\n",
    "ANEWwords = [key for key in ANEW]\n",
    "ANEWscores = [float(ANEW[word][1]) for word in ANEWwords]\n",
    "# sort by valence\n",
    "indexer = sorted(range(len(ANEWscores)), key=lambda k: ANEWscores[k], reverse=True)\n",
    "ANEWwords = [ANEWwords[i] for i in indexer]\n",
    "ANEWscores = [ANEWscores[i] for i in indexer]\n",
    "ANEWwordsRE = map(re.compile,map(lambda x: \"^\"+x+\"$\",ANEWwords))\n",
    "\n",
    "# many (most) of these words are stems\n",
    "# so we'll need to deal with this in applying it\n",
    "LIWC = dict()\n",
    "f = open(\"LIWC/LIWC2007_positive.txt\")\n",
    "for line in f:\n",
    "    l = line.rstrip().split(\"\\t\")\n",
    "    LIWC[l[0].replace('*','[a-z\\']*')] = 1\n",
    "f.close()\n",
    "f = open(\"LIWC/LIWC2007_negative.txt\")\n",
    "for line in f:\n",
    "    l = line.rstrip().split(\"\\t\")\n",
    "    LIWC[l[0].replace('*','[a-z\\']*')] = -1\n",
    "f.close()\n",
    "print len(LIWC)\n",
    "# get the words out...go alphabetical\n",
    "LIWCwords = [key for key in LIWC]\n",
    "LIWCwords.sort()\n",
    "# same order\n",
    "LIWCscores = [LIWC[word] for word in LIWCwords]\n",
    "LIWCwordsRE = map(re.compile,map(lambda x: \"^\"+x+\"$\",LIWCwords))\n",
    "\n",
    "# found a typo in the following dataset (fixed)\n",
    "# (pyenv)happy% grep -n \"n m\" MPQA-lexicon/subjectivity_clues_hltemnlp05/subjclueslen1-HLTEMNLP05.tff\n",
    "# 5549:type=strongsubj len=1 word1=pervasive pos1=adj stemmed1=n m priorpolarity=negative\n",
    "# 5550:type=strongsubj len=1 word1=pervasive pos1=noun stemmed1=n m priorpolarity=negative\n",
    "#\n",
    "# also, there are words that are the same word\n",
    "# but with a different usage type (adj,noun)\n",
    "# i'm only keeping the latter\n",
    "MPQA = dict()\n",
    "f = open(\"MPQA-lexicon/subjectivity_clues_hltemnlp05/subjclueslen1-HLTEMNLP05.tff\",\"r\")\n",
    "for line in f:\n",
    "    # print line\n",
    "    l = [x.split(\"=\")[1] for x in line.rstrip().split(\" \")]\n",
    "    # check that no words are different polarity when duplicated\n",
    "    if l[2] in MPQA:\n",
    "        if not MPQA[l[2]][\"polarity\"] == l[5]:\n",
    "            print l[2]+\" is both \"+MPQA[l[2]][\"polarity\"]+\" and \"+l[5]\n",
    "            print \"declaring it neutral\"\n",
    "            l[5] = \"neutral\"\n",
    "    MPQA[l[2]] = {\"type\": l[0], \"len\": l[1], \"pos1\": l[3], \"stemmed\": (l[4]==\"y\"), \"polarity\": l[5]}\n",
    "f.close()\n",
    "print len(MPQA)\n",
    "# grab all of the words that have a polarity\n",
    "MPQAwords = []\n",
    "scores = [-1,0,1]\n",
    "emotions = [\"negative\",\"neutral\",\"positive\"]\n",
    "for key in MPQA:\n",
    "    if MPQA[key][\"polarity\"] in emotions:\n",
    "        if MPQA[key][\"stemmed\"] == \"y\":\n",
    "            MPQAwords.append(key+\"[a-z]*\")\n",
    "        else:\n",
    "            MPQAwords.append(key)\n",
    "MPQAwords.sort()\n",
    "MPQAscores = [scores[emotions.index(MPQA[key][\"polarity\"])] for key in MPQAwords]\n",
    "MPQAwordsRE = map(re.compile,map(lambda x: \"^\"+x+\"$\",MPQAwords))\n",
    "\n",
    "liu = dict()\n",
    "f = open(\"liu-lexicon/negative-words-clean.txt\",\"r\")\n",
    "for line in f:\n",
    "    l = line.rstrip()\n",
    "    liu[l] = -1\n",
    "f.close()\n",
    "f = open(\"liu-lexicon/positive-words-clean.txt\",\"r\")\n",
    "for line in f:\n",
    "    l = line.rstrip()\n",
    "    liu[l] = 1\n",
    "f.close()\n",
    "print len(liu)\n",
    "liuwords = [key for key in liu]\n",
    "liuwords.sort()\n",
    "liuscores = [liu[key] for key in liuwords]\n",
    "liuwords[liuwords.index(\"bull****\")] = \"bull\\*\\*\\*\\*\"\n",
    "liuwords[liuwords.index(\"f**k\")] = \"f\\*\\*k\"\n",
    "liuwordsRE = map(re.compile,map(lambda x: \"^\"+x+\"$\",liuwords))"
   ]
  },
  {
   "cell_type": "code",
   "execution_count": 106,
   "metadata": {
    "collapsed": false
   },
   "outputs": [
    {
     "name": "stdout",
     "output_type": "stream",
     "text": [
      "['triumphant', 'love', 'paradise', 'loved', 'joy', 'miracle', 'humor', 'laughter', 'champion', 'friendly']\n",
      "[8.82, 8.72, 8.72, 8.64, 8.6, 8.6, 8.56, 8.45, 8.44, 8.43]\n",
      "['death', 'unhappy', 'torture', 'suffocate', 'murderer', 'rejected', 'cancer', 'funeral', 'suicide', 'rape']\n",
      "[1.61, 1.57, 1.56, 1.56, 1.53, 1.5, 1.5, 1.39, 1.25, 1.25]\n"
     ]
    }
   ],
   "source": [
    "print ANEWwords[0:10]\n",
    "print ANEWscores[0:10]\n",
    "print ANEWwords[-10:]\n",
    "print ANEWscores[-10:]"
   ]
  },
  {
   "cell_type": "code",
   "execution_count": 134,
   "metadata": {
    "collapsed": false
   },
   "outputs": [
    {
     "name": "stdout",
     "output_type": "stream",
     "text": [
      "['abandon', 'abandoned', 'abandonment', 'abase', 'abasement', 'abash', 'abate', 'abdicate', 'aberration', 'abhor']\n",
      "[-1, -1, -1, -1, -1, -1, -1, -1, -1, -1]\n",
      "['yelp', 'yep', 'yes', 'youthful', 'zeal', 'zealot', 'zealous', 'zealously', 'zenith', 'zest']\n",
      "[-1, 1, 1, 1, 1, -1, -1, -1, 1, 1]\n",
      "6886\n",
      "6869\n"
     ]
    }
   ],
   "source": [
    "print MPQAwords[0:10]\n",
    "print MPQAscores[0:10]\n",
    "print MPQAwords[-10:]\n",
    "print MPQAscores[-10:]\n",
    "print len(MPQA)\n",
    "print len(MPQAwords)"
   ]
  },
  {
   "cell_type": "code",
   "execution_count": 108,
   "metadata": {
    "collapsed": false
   },
   "outputs": [
    {
     "name": "stdout",
     "output_type": "stream",
     "text": [
      "['2-faced', '2-faces', 'a+', 'abnormal', 'abolish', 'abominable', 'abominably', 'abominate', 'abomination', 'abort']\n",
      "[-1, -1, 1, -1, -1, -1, -1, -1, -1, -1]\n",
      "['zapped', 'zaps', 'zeal', 'zealot', 'zealous', 'zealously', 'zenith', 'zest', 'zippy', 'zombie']\n",
      "[-1, -1, 1, -1, -1, -1, 1, 1, 1, -1]\n"
     ]
    }
   ],
   "source": [
    "print liuwords[0:10]\n",
    "print liuscores[0:10]\n",
    "print liuwords[-10:]\n",
    "print liuscores[-10:]"
   ]
  },
  {
   "cell_type": "code",
   "execution_count": 109,
   "metadata": {
    "collapsed": false
   },
   "outputs": [
    {
     "name": "stdout",
     "output_type": "stream",
     "text": [
      "['126', '127', \"abandon[a-z']*\", \"abuse[a-z']*\", \"abusi[a-z']*\", 'accept', \"accepta[a-z']*\", 'accepted', 'accepting', 'accepts']\n",
      "[<_sre.SRE_Pattern object at 0x1197f1328>, <_sre.SRE_Pattern object at 0x1197f10c8>, <_sre.SRE_Pattern object at 0x1126ee120>, <_sre.SRE_Pattern object at 0x116ff99d0>, <_sre.SRE_Pattern object at 0x110f34b90>, <_sre.SRE_Pattern object at 0x12425f3a0>, <_sre.SRE_Pattern object at 0x1126ee210>, <_sre.SRE_Pattern object at 0x1198cf0f0>, <_sre.SRE_Pattern object at 0x123f7fe40>, <_sre.SRE_Pattern object at 0x119b460e8>]\n",
      "<_sre.SRE_Match object at 0x118f65cc8>\n",
      "None\n",
      "None\n",
      "<_sre.SRE_Match object at 0x118f65cc8>\n"
     ]
    }
   ],
   "source": [
    "print LIWCwords[0:10]\n",
    "print LIWCwordsRE[0:10]\n",
    "print LIWCwordsRE[2].match('abandoned')\n",
    "print LIWCwordsRE[5].match('accepted')\n",
    "print LIWCwordsRE[5].match('cept')\n",
    "print LIWCwordsRE[7].match('accepted')"
   ]
  },
  {
   "cell_type": "code",
   "execution_count": 173,
   "metadata": {
    "collapsed": false
   },
   "outputs": [],
   "source": [
    "# let's define some functions to make word vecs for any corpus\n",
    "    \n",
    "# assume that there is no overlap in the word definitions...\n",
    "def matcherVec(REvector,word,wordVec):\n",
    "    for i in xrange(len(REvector)):\n",
    "        if REvector[i].match(word) is not None:\n",
    "            wordVec[i] += 1\n",
    "            break\n",
    "\n",
    "def wordVecify(words,reVector):\n",
    "    wordVec = [0 for i in xrange(len(reVector))]\n",
    "    for word in words:\n",
    "        matcherVec(reVector,word,wordVec)\n",
    "    return wordVec"
   ]
  },
  {
   "cell_type": "code",
   "execution_count": 182,
   "metadata": {
    "collapsed": false
   },
   "outputs": [
    {
     "name": "stdout",
     "output_type": "stream",
     "text": [
      "686656\n",
      "909\n",
      "1 loops, best of 3: 333 ms per loop\n",
      "909\n",
      "4\n",
      "60\n"
     ]
    }
   ],
   "source": [
    "print len(poswords)\n",
    "print len(LIWCwordsRE)\n",
    "%timeit wordVecify(poswords[:1000],LIWCwordsRE)\n",
    "a = wordVecify(poswords[:1000],LIWCwordsRE)\n",
    "print len(a)\n",
    "print max(a)\n",
    "print sum(a)\n",
    "# print a"
   ]
  },
  {
   "cell_type": "code",
   "execution_count": 183,
   "metadata": {
    "collapsed": false
   },
   "outputs": [
    {
     "data": {
      "text/plain": [
       "<matplotlib.legend.Legend at 0x12477b250>"
      ]
     },
     "execution_count": 183,
     "metadata": {},
     "output_type": "execute_result"
    },
    {
     "data": {
      "image/png": "[encoded data removed]",
      "text/plain": [
       "<matplotlib.figure.Figure at 0x12470bed0>"
      ]
     },
     "metadata": {},
     "output_type": "display_data"
    }
   ],
   "source": [
    "maxCount = 15000\n",
    "def coverageMaker(wordList,REvector):\n",
    "    a = [sum(wordVecify([word],REvector)) for word in wordList[:maxCount]]\n",
    "    b = [float(sum(a[:i+1]))/(i+1) for i in range(maxCount)]\n",
    "    return a,b\n",
    "\n",
    "labMTcoverage,labMTcovP = coverageMaker(allwordsListSorted,labMTwordsRE)\n",
    "ANEWcoverage,ANEWcovP = coverageMaker(allwordsListSorted,ANEWwordsRE)\n",
    "LIWCcoverage,LIWCcovP = coverageMaker(allwordsListSorted,LIWCwordsRE)\n",
    "MPQAcoverage,MPQAcovP = coverageMaker(allwordsListSorted,MPQAwordsRE)\n",
    "liucoverage,liucovP = coverageMaker(allwordsListSorted,liuwordsRE)\n",
    "\n",
    "plt.figure(num=None, figsize=(14, 9), dpi=600, facecolor='w', edgecolor='k')\n",
    "plt.plot(range(maxCount),labMTcovP)\n",
    "plt.plot(range(maxCount),ANEWcovP)\n",
    "plt.plot(range(maxCount),LIWCcovP)\n",
    "plt.plot(range(maxCount),MPQAcovP)\n",
    "plt.plot(range(maxCount),liucovP)\n",
    "\n",
    "plt.legend(['LabMT','ANEW','LIWC','MPQA','Liu'],loc=\"best\")\n",
    "plt.savefig('coverage-over-words-by-rank.png')\n",
    "# i will say that this plot is unfair to MPQA because I have thrown out all of the words that their score is 0 for.\n",
    "# had I done the same for labMT, it would have done much worse\n",
    "# ...for the sake of the plot, I'll put the zeros back in for MPQA words labelled nuetral\n",
    "# not a big boost for them, only another ~150 words"
   ]
  },
  {
   "cell_type": "code",
   "execution_count": 122,
   "metadata": {
    "collapsed": false
   },
   "outputs": [
    {
     "name": "stdout",
     "output_type": "stream",
     "text": [
      "[1, 1, 1, 1, 1, 1, 1, 1, 1, 1, 1, 1, 1, 1, 1, 1, 1, 1, 1, 1, 1, 1, 1, 1, 1, 1, 1, 1, 1, 1, 1, 1, 1, 1, 1, 1, 1, 1, 1, 1, 1, 1, 1, 1, 1, 1, 1, 1, 1, 1, 1, 1, 1, 1, 1, 1, 1, 1, 1, 1, 1, 1, 1, 1, 1, 1, 1, 1, 1, 1, 1, 1, 1, 1, 1, 1, 0, 1, 1, 1, 1, 1, 1, 1, 1, 1, 1, 1, 1, 1, 1, 1, 1, 1, 1, 1, 1, 1, 1, 1, 1, 1, 1, 0, 1, 1, 1, 1, 1, 1, 1, 1, 1, 1, 1, 1, 1, 0, 1, 1, 1, 1, 0, 1, 1, 1, 1, 1, 1, 1, 1, 1, 1, 1, 1, 1, 1, 1, 1, 1, 1, 1, 1, 1, 1, 1, 1, 1, 1, 1, 1, 1, 1, 1, 1, 1, 1, 1, 1, 1, 1, 1, 1, 1, 1, 1, 1, 1, 1, 1, 1, 1, 1, 1, 1, 1, 1, 1, 1, 1, 1, 1, 1, 1, 1, 1, 1, 1, 1, 1, 1, 1, 1, 1, 1, 1, 1, 1, 1, 1]\n",
      "[1, 1, 1, 1, 1, 1, 1, 1, 1, 1, 1, 1, 1, 1, 1, 1, 1, 1, 1, 1, 1, 1, 1, 1, 1, 1, 1, 1, 1, 1, 1, 1, 1, 1, 1, 1, 1, 1, 1, 1, 1, 1, 1, 1, 1, 1, 1, 1, 1, 1, 1, 1, 1, 1, 1, 1, 1, 1, 1, 1, 1, 1, 1, 1, 1, 1, 1, 1, 1, 1, 1, 1, 1, 1, 1, 1, 0, 0, 0, 0, 0, 0, 0, 0, 0, 0, 0, 0, 0, 0, 0, 0, 0, 0, 0, 0, 0, 0, 0, 0, 0, 0, 0, 0, 0, 0, 0, 0, 0, 0, 0, 0, 0, 0, 0, 0, 0, 0, 0, 0, 0, 0, 0, 0, 0, 0, 0, 0, 0, 0, 0, 0, 0, 0, 0, 0, 0, 0, 0, 0, 0, 0, 0, 0, 0, 0, 0, 0, 0, 0, 0, 0, 0, 0, 0, 0, 0, 0, 0, 0, 0, 0, 0, 0, 0, 0, 0, 0, 0, 0, 0, 0, 0, 0, 0, 0, 0, 0, 0, 0, 0, 0, 0, 0, 0, 0, 0, 0, 0, 0, 0, 0, 0, 0, 0, 0, 0, 0, 0, 0]\n",
      "196\n",
      "the\n",
      "None\n"
     ]
    }
   ],
   "source": [
    "print labMTcoverage[:200]\n",
    "print labMTcovP[:200]\n",
    "print sum(labMTcoverage[:200])\n",
    "print labMTwords[wordVecify(['the'],labMTwordsRE).index(1)]\n",
    "print re.match('^t$','the')"
   ]
  },
  {
   "cell_type": "code",
   "execution_count": 141,
   "metadata": {
    "collapsed": false
   },
   "outputs": [
    {
     "name": "stdout",
     "output_type": "stream",
     "text": [
      "594796\n",
      "528074\n",
      "0.887823724437\n"
     ]
    }
   ],
   "source": [
    "# total number of words out this far\n",
    "# how many did each set get of the total words?\n",
    "print sum(allcountsListSorted[:maxCount])\n",
    "print sum([a*b for a,b in zip(labMTcoverage,allcountsListSorted[:maxCount])])\n",
    "print sum([a*b for a,b in zip(labMTcoverage,allcountsListSorted[:maxCount])])/float(sum(allcountsListSorted[:maxCount]))"
   ]
  },
  {
   "cell_type": "code",
   "execution_count": 222,
   "metadata": {
    "collapsed": false
   },
   "outputs": [
    {
     "data": {
      "image/png": "[encoded data removed]",
      "text/plain": [
       "<matplotlib.figure.Figure at 0x130d87410>"
      ]
     },
     "metadata": {},
     "output_type": "display_data"
    }
   ],
   "source": [
    "total = float(sum(allcountsListSorted[:maxCount]))\n",
    "def totalCoverage(indices):\n",
    "    return [a*b for a,b in zip(indices,allcountsListSorted[:maxCount])]\n",
    "\n",
    "def covS(indices):\n",
    "    return sum(totalCoverage(indices))/total\n",
    "\n",
    "def relativeCoverage(indices):\n",
    "    totalCov = totalCoverage(indices)\n",
    "    return [sum(totalCov[:i+1])/float(sum(allcountsListSorted[:i+1])) for i in xrange(maxCount)]\n",
    "    \n",
    "coveragesBySet = map(covS,[labMTcoverage,ANEWcoverage,LIWCcoverage,MPQAcoverage,liucoverage])\n",
    "\n",
    "ax = plt.subplot(111)\n",
    "ax.bar(range(5),coveragesBySet,0.6,color='b')\n",
    "ax.set_ylabel('Percentage')\n",
    "ax.set_title('Percentage coverage over first '+str(maxCount)+' words')\n",
    "ax.set_xlim([-.15,4.7])\n",
    "ax.set_xticks(np.arange(5)+.3)\n",
    "ax.set_xticklabels( ['LabMT','ANEW','LIWC','MPQA','Liu'] )\n",
    "\n",
    "plt.savefig('total-coverage-bar-chart.png')"
   ]
  },
  {
   "cell_type": "code",
   "execution_count": 168,
   "metadata": {
    "collapsed": false
   },
   "outputs": [
    {
     "data": {
      "image/png": "[encoded data removed]",
      "text/plain": [
       "<matplotlib.figure.Figure at 0x117b63190>"
      ]
     },
     "metadata": {},
     "output_type": "display_data"
    }
   ],
   "source": [
    "coveragesBySet = map(relativeCoverage,[labMTcoverage,ANEWcoverage,LIWCcoverage,MPQAcoverage,liucoverage])\n",
    "\n",
    "plt.figure(num=None, figsize=(14, 9), dpi=600, facecolor='w', edgecolor='k')\n",
    "plt.plot(range(maxCount),coveragesBySet[0])\n",
    "plt.plot(range(maxCount),coveragesBySet[1])\n",
    "plt.plot(range(maxCount),coveragesBySet[2])\n",
    "plt.plot(range(maxCount),coveragesBySet[3])\n",
    "plt.plot(range(maxCount),coveragesBySet[4])\n",
    "plt.xlabel('Word Rank')\n",
    "plt.ylabel('Percentage of total words covered')\n",
    "plt.legend(['LabMT','ANEW','LIWC','MPQA','Liu'],loc=\"best\")\n",
    "plt.savefig('relative-coverage-over-words-by-rank.png')"
   ]
  }
 ],
 "metadata": {
  "kernelspec": {
   "display_name": "Python 3",
   "language": "python",
   "name": "python3"
  },
  "language_info": {
   "codemirror_mode": {
    "name": "ipython",
    "version": 3
   },
   "file_extension": ".py",
   "mimetype": "text/x-python",
   "name": "python",
   "nbconvert_exporter": "python",
   "pygments_lexer": "ipython3",
   "version": "3.5.1"
  }
 },
 "nbformat": 4,
 "nbformat_minor": 0
}
