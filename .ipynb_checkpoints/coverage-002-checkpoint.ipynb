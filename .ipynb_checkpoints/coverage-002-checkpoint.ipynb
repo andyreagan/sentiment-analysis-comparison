{
 "cells": [
  {
   "cell_type": "code",
   "execution_count": 1,
   "metadata": {
    "collapsed": true
   },
   "outputs": [],
   "source": [
    "# load the very latest version\n",
    "import sys\n",
    "sys.path.append(\"/Users/andyreagan/tools/python/labMTsimple/\")\n",
    "from labMTsimple.speedy import *\n",
    "from labMTsimple.storyLab import *\n",
    "\n",
    "import re\n",
    "import codecs\n",
    "from os import listdir,mkdir\n",
    "from os.path import isfile,isdir\n",
    "import matplotlib\n",
    "matplotlib.use(\"pdf\")\n",
    "import matplotlib.pyplot as plt\n",
    "from matplotlib import rc,rcParams\n",
    "rc(\"xtick\", labelsize=8)\n",
    "rc(\"ytick\", labelsize=8)\n",
    "rc(\"font\",**{\"family\":\"serif\",\"serif\":[\"cmr10\"]})\n",
    "# rcParams[\"mathtext.fontset\"] = \"stix\"\n",
    "# rcParams[\"font.family\"] = \"STIXGeneral\"\n",
    "rc(\"text\", usetex=True)\n",
    "figwidth_onecol = 8.5\n",
    "figwidth_twocol = figwidth_onecol/2\n",
    "\n",
    "import numpy as np\n",
    "from json import loads\n",
    "import csv\n",
    "from datetime import datetime,timedelta\n",
    "import pickle\n",
    "\n",
    "from subprocess import call\n",
    "\n",
    "from scipy.stats import pearsonr\n",
    "\n",
    "error_logging = True\n",
    "sys.path.append(\"/Users/andyreagan/tools/python/kitchentable\")\n",
    "from dogtoys import *"
   ]
  },
  {
   "cell_type": "code",
   "execution_count": 10,
   "metadata": {
    "collapsed": true
   },
   "outputs": [],
   "source": [
    "from analyzeAll import *"
   ]
  },
  {
   "cell_type": "code",
   "execution_count": 7,
   "metadata": {
    "collapsed": true
   },
   "outputs": [],
   "source": [
    "def make_coverage_plot(allcountsListSorted,allwordsListSorted,corpus_title):\n",
    "    titles = [\"labMT\",\"ANEW\",\"LIWC\",\"MPQA\",\"OL\",\"WK\"]\n",
    "    maxCount = 15000\n",
    "    # maxCount = len(allcountsListSorted)\n",
    "    total = np.sum(allcountsListSorted[:maxCount])\n",
    "\n",
    "    def coverageMaker(wordList,sentimentDict):\n",
    "        a = np.array([sentimentDict.matcherBool(word) for word in wordList[:maxCount]])\n",
    "        b = np.cumsum(a)/(np.array(range(len(a)))+1)\n",
    "        return a,b\n",
    "\n",
    "    def totalCoverage(indices):\n",
    "        return indices*allcountsListSorted[:maxCount]\n",
    "\n",
    "    def covS(indices):\n",
    "        return np.sum(totalCoverage(indices))/total\n",
    "\n",
    "    def relativeCoverage(indices):\n",
    "        totalCov = totalCoverage(indices)\n",
    "        return np.cumsum(totalCov)/np.cumsum(allcountsListSorted[:maxCount])\n",
    "\n",
    "    # make them all as both dicts and tries, with no stopval\n",
    "    stopVal = 0.0\n",
    "    labMT_trie = LabMT(stopVal=stopVal)\n",
    "\n",
    "    LIWC_trie = LIWC(stopVal=stopVal)\n",
    "    WK_trie = WK(stopVal=stopVal)\n",
    "    ANEW_trie = ANEW(stopVal=stopVal)\n",
    "    MPQA_trie = MPQA(stopVal=stopVal)\n",
    "    OL_trie = OL(stopVal=stopVal)\n",
    "\n",
    "    labMTcoverage,labMTcovP = coverageMaker(allwordsListSorted,labMT_trie)\n",
    "    ANEWcoverage,ANEWcovP = coverageMaker(allwordsListSorted,ANEW_trie)\n",
    "    LIWCcoverage,LIWCcovP = coverageMaker(allwordsListSorted,LIWC_trie)\n",
    "    MPQAcoverage,MPQAcovP = coverageMaker(allwordsListSorted,MPQA_trie)\n",
    "    OLcoverage,OLcovP = coverageMaker(allwordsListSorted,OL_trie)\n",
    "    WKcoverage,WKcovP = coverageMaker(allwordsListSorted,WK_trie)\n",
    "\n",
    "    allCoverage = [labMTcoverage,ANEWcoverage,LIWCcoverage,MPQAcoverage,OLcoverage,WKcoverage]\n",
    "    allCovP = [labMTcovP,ANEWcovP,LIWCcovP,MPQAcovP,OLcovP,WKcovP]\n",
    "    allCovPfinal = [labMTcovP[-1],ANEWcovP[-1],LIWCcovP[-1],MPQAcovP[-1],OLcovP[-1],WKcovP[-1]]\n",
    "\n",
    "    save_individual_plots = False\n",
    "    if save_individual_plots:\n",
    "        plt.figure(num=None, figsize=(14, 9), dpi=600, facecolor=\"w\", edgecolor=\"k\")\n",
    "\n",
    "        for i in range(len(allCovP)):\n",
    "            plt.plot(range(maxCount),allCovP[i],linewidth=2)\n",
    "\n",
    "        plt.xlabel(\"Word Rank\")\n",
    "        plt.ylabel(\"Percentage of individual words covered\")\n",
    "\n",
    "        plt.legend(titles,loc=\"best\")\n",
    "        mysavefig(\"word-coverage-by-rank-{0}.pdf\".format(corpus_title),folder=\"../figures/coverage\")\n",
    "        # mysavefig(\"word-coverage-by-rank-{0}.png\".format(corpus_title))\n",
    "        plt.close()\n",
    "\n",
    "        coveragesBySet = list(map(covS,allCoverage))\n",
    "\n",
    "        fig, ax = plt.subplots()\n",
    "        # ax.bar(range(5),coveragesBySet,0.6,color=[\"r\",\"b\",\"g\",\"k\",\"c\"])\n",
    "\n",
    "        ax.bar(np.arange(len(allCoverage))+0.3,coveragesBySet,0.3,color=\"#ef8a62\",)\n",
    "        ax.bar(np.arange(len(allCoverage)),allCovPfinal,0.3,color=\"#2b8cbe\",)\n",
    "        ax.set_ylabel(\"Percentage\")\n",
    "        ax.set_title(\"Percentage coverage over first \"+str(maxCount)+\" words\")\n",
    "        # plt.legend(np.flipud([\"Total Coverage\",\"Individual Word Coverage\"]),loc=\"best\")\n",
    "        plt.legend([\"Total Coverage\",\"Individual Word Coverage\"],loc=\"best\")\n",
    "        ax.set_xlim([-.15,len(titles)-.3])\n",
    "        ax.set_xticks(np.arange(len(allCoverage))+.3)\n",
    "        ax.set_xticklabels( titles )\n",
    "        ax.set_ylim([0,1])\n",
    "        mysavefig(\"total-coverage-bar-chart-{0}.pdf\".format(corpus_title),folder=\"../figures/coverage\")\n",
    "        # mysavefig(\"total-coverage-bar-chart-{0}.png\".format(corpus_title))\n",
    "        plt.close()\n",
    "\n",
    "        coveragesBySet2 = list(map(relativeCoverage,allCoverage))\n",
    "\n",
    "        plt.figure(num=None, figsize=(14, 9), dpi=600, facecolor=\"w\", edgecolor=\"k\")\n",
    "        for i in range(len(coveragesBySet2)):\n",
    "            plt.plot(range(maxCount),coveragesBySet2[i],linewidth=2)\n",
    "        plt.xlabel(\"Word Rank\")\n",
    "        plt.ylabel(\"Percentage of total words covered\")\n",
    "        plt.legend(titles,loc=\"best\")\n",
    "        mysavefig(\"relative-coverage-over-words-by-rank-{0}.pdf\".format(corpus_title),folder=\"../figures/coverage\")\n",
    "        # mysavefig(\"relative-coverage-over-words-by-rank-{0}.png\".format(corpus_title))\n",
    "        plt.close()\n",
    "    # endif \n",
    "\n",
    "    # now the full subplot figure\n",
    "\n",
    "    plt.figure(num=None, figsize=(figwidth_onecol, figwidth_onecol*.35), dpi=600, facecolor=\"w\", edgecolor=\"k\")\n",
    "    ax = plt.subplot(131)\n",
    "\n",
    "    for i in range(len(allCovP)):\n",
    "        ax.plot(range(maxCount),allCovP[i],linewidth=2)\n",
    "\n",
    "    ax.set_xlabel(\"Word Rank\",fontsize=12)\n",
    "    ax.set_ylabel(\"Percentage of individual words covered\",fontsize=12)\n",
    "    ax.set_ylim([0,1])\n",
    "    ax.set_yticks([0,.2,.4,.6,.8,1.0])\n",
    "    # ax.legend(titles,loc=\"best\",fontsize=10)\n",
    "    ax.set_xlim([0,maxCount])\n",
    "    ax.set_xticks([0,5000,10000,15000])\n",
    "\n",
    "    coveragesBySet2 = list(map(relativeCoverage,allCoverage))\n",
    "\n",
    "    ax = plt.subplot(132)\n",
    "\n",
    "    for i in range(len(coveragesBySet2)):\n",
    "        ax.plot(range(maxCount),coveragesBySet2[i],linewidth=2)\n",
    "    ax.set_xlabel(\"Word Rank\",fontsize=12)\n",
    "    ax.set_ylabel(\"Percentage of total words covered\",fontsize=12)\n",
    "    ax.legend(titles,loc=\"best\",fontsize=10,ncol=2,framealpha=0.5)\n",
    "    ax.set_ylim([0,1])\n",
    "    ax.set_yticks([0,.2,.4,.6,.8,1.0])\n",
    "    ax.set_xlim([0,maxCount])\n",
    "    ax.set_xticks([0,5000,10000,15000])\n",
    "\n",
    "    coveragesBySet = list(map(covS,allCoverage))\n",
    "\n",
    "    ax = plt.subplot(133)\n",
    "\n",
    "    ax.bar(np.arange(len(allCoverage))+0.3,coveragesBySet,0.3,color=\"#ef8a62\",)\n",
    "    ax.bar(np.arange(len(allCoverage)),allCovPfinal,0.3,color=\"#2b8cbe\",)\n",
    "    ax.set_ylabel(\"Percentage\",fontsize=12)\n",
    "    # ax.set_title(\"Percentage coverage over first \"+str(maxCount)+\" words\")\n",
    "    # ax.legend(np.flipud([\"Total Coverage\",\"Individual Word Coverage\"]),loc=\"best\")\n",
    "    ax.legend([\"Total Coverage\",\"Individual Word\\nCoverage\"],loc=\"best\",fontsize=10,framealpha=0.5)\n",
    "    ax.set_xlim([-.15,len(titles)-.3])\n",
    "    ax.set_xticks( np.arange( len( allCoverage ) ) +.3 )\n",
    "    ax.set_xticklabels( titles , fontsize=12 , rotation=45 )\n",
    "    ax.set_ylim( [0,1] )\n",
    "    ax.set_yticks( [0,.2,.4,.6,.8,1.0] )\n",
    "\n",
    "    plt.tight_layout(pad=0.0, w_pad=0.0, h_pad=0.5)\n",
    "\n",
    "    mysavefig(\"coverage-{0}.pdf\".format(corpus_title),folder=\"../figures/coverage\")\n",
    "    plt.close()"
   ]
  },
  {
   "cell_type": "code",
   "execution_count": 8,
   "metadata": {
    "collapsed": true
   },
   "outputs": [],
   "source": [
    "def coverage():\n",
    "    \"\"\"Make each of the four main coverage plots.\"\"\"\n",
    "\n",
    "    corpus = \"twitter\"\n",
    "    print(\"making coverage plot for {0}\".format(corpus))\n",
    "    allcountsListSorted,allwordsListSorted = loadTwitter()\n",
    "    make_coverage_plot(allcountsListSorted,allwordsListSorted,corpus)\n",
    "\n",
    "    corpus = \"movieReviews\"\n",
    "    print(\"making coverage plot for {0}\".format(corpus))\n",
    "    allcountsListSorted,allwordsListSorted = loadMovieReviews()\n",
    "    make_coverage_plot(allcountsListSorted,allwordsListSorted,corpus)\n",
    "\n",
    "    corpus = \"googleBooks\"\n",
    "    print(\"making coverage plot for {0}\".format(corpus))\n",
    "    allcountsListSorted,allwordsListSorted = loadGBooks()\n",
    "    make_coverage_plot(allcountsListSorted,allwordsListSorted,corpus)\n",
    "\n",
    "    corpus = \"nyt\"\n",
    "    print(\"making coverage plot for {0}\".format(corpus))\n",
    "    allcountsListSorted,allwordsListSorted = loadNYT()\n",
    "    make_coverage_plot(allcountsListSorted,allwordsListSorted,corpus)"
   ]
  },
  {
   "cell_type": "code",
   "execution_count": 9,
   "metadata": {
    "collapsed": false
   },
   "outputs": [
    {
     "name": "stdout",
     "output_type": "stream",
     "text": [
      "making coverage plot for twitter\n",
      "there are 8441736 unique words in this corpus\n",
      "loading labMT with stopVal=0.0, for 10222 words\n",
      "loading data/LIWC/LIWC2007_English100131_words.dic\n",
      "loading LIWC with stopVal=0.0, for 4483 words\n",
      "loading WK with stopVal=0.0, for 13915 words\n",
      "loading ANEW with stopVal=0.0, for 1034 words\n",
      "loading MPQA with stopVal=0.0, for 7192 words\n",
      "loading OL with stopVal=0.0, for 6782 words\n"
     ]
    },
    {
     "name": "stderr",
     "output_type": "stream",
     "text": [
      "/usr/local/lib/python3.5/site-packages/matplotlib/tight_layout.py:222: UserWarning: tight_layout : falling back to Agg renderer\n",
      "  warnings.warn(\"tight_layout : falling back to Agg renderer\")\n"
     ]
    },
    {
     "name": "stdout",
     "output_type": "stream",
     "text": [
      "making coverage plot for movieReviews\n",
      "there are 49910 unique words in this corpus\n",
      "loading labMT with stopVal=0.0, for 10222 words\n",
      "loading data/LIWC/LIWC2007_English100131_words.dic\n",
      "loading LIWC with stopVal=0.0, for 4483 words\n",
      "loading WK with stopVal=0.0, for 13915 words\n",
      "loading ANEW with stopVal=0.0, for 1034 words\n",
      "loading MPQA with stopVal=0.0, for 7192 words\n",
      "loading OL with stopVal=0.0, for 6782 words\n"
     ]
    },
    {
     "name": "stderr",
     "output_type": "stream",
     "text": [
      "/usr/local/lib/python3.5/site-packages/matplotlib/tight_layout.py:222: UserWarning: tight_layout : falling back to Agg renderer\n",
      "  warnings.warn(\"tight_layout : falling back to Agg renderer\")\n"
     ]
    },
    {
     "name": "stdout",
     "output_type": "stream",
     "text": [
      "making coverage plot for googleBooks\n",
      "there are 9559585 unique words in this corpus\n",
      "loading labMT with stopVal=0.0, for 10222 words\n",
      "loading data/LIWC/LIWC2007_English100131_words.dic\n",
      "loading LIWC with stopVal=0.0, for 4483 words\n",
      "loading WK with stopVal=0.0, for 13915 words\n",
      "loading ANEW with stopVal=0.0, for 1034 words\n",
      "loading MPQA with stopVal=0.0, for 7192 words\n",
      "loading OL with stopVal=0.0, for 6782 words\n"
     ]
    },
    {
     "name": "stderr",
     "output_type": "stream",
     "text": [
      "/usr/local/lib/python3.5/site-packages/matplotlib/tight_layout.py:222: UserWarning: tight_layout : falling back to Agg renderer\n",
      "  warnings.warn(\"tight_layout : falling back to Agg renderer\")\n"
     ]
    },
    {
     "name": "stdout",
     "output_type": "stream",
     "text": [
      "making coverage plot for nyt\n",
      "there are 2626455 unique  words in this corpus\n",
      "loading labMT with stopVal=0.0, for 10222 words\n",
      "loading data/LIWC/LIWC2007_English100131_words.dic\n",
      "loading LIWC with stopVal=0.0, for 4483 words\n",
      "loading WK with stopVal=0.0, for 13915 words\n",
      "loading ANEW with stopVal=0.0, for 1034 words\n",
      "loading MPQA with stopVal=0.0, for 7192 words\n",
      "loading OL with stopVal=0.0, for 6782 words\n"
     ]
    },
    {
     "name": "stderr",
     "output_type": "stream",
     "text": [
      "/usr/local/lib/python3.5/site-packages/matplotlib/tight_layout.py:222: UserWarning: tight_layout : falling back to Agg renderer\n",
      "  warnings.warn(\"tight_layout : falling back to Agg renderer\")\n"
     ]
    }
   ],
   "source": [
    "coverage()"
   ]
  },
  {
   "cell_type": "code",
   "execution_count": null,
   "metadata": {
    "collapsed": true
   },
   "outputs": [],
   "source": []
  }
 ],
 "metadata": {
  "kernelspec": {
   "display_name": "Python 3",
   "language": "python",
   "name": "python3"
  },
  "language_info": {
   "codemirror_mode": {
    "name": "ipython",
    "version": 3
   },
   "file_extension": ".py",
   "mimetype": "text/x-python",
   "name": "python",
   "nbconvert_exporter": "python",
   "pygments_lexer": "ipython3",
   "version": "3.5.1"
  }
 },
 "nbformat": 4,
 "nbformat_minor": 0
}
