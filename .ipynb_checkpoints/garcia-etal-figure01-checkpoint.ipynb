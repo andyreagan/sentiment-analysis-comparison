{
 "cells": [
  {
   "cell_type": "code",
   "execution_count": 9,
   "metadata": {
    "collapsed": false
   },
   "outputs": [
    {
     "name": "stdout",
     "output_type": "stream",
     "text": [
      "13915\n",
      "(6.26, 1)\n"
     ]
    }
   ],
   "source": [
    "f = open('BRM-emot-submit.csv')\n",
    "warriner = dict()\n",
    "f.readline()\n",
    "for line in f:\n",
    "    l = line.rstrip().split(',')\n",
    "    warriner[l[1]] = (float(l[2]),int(l[0]))\n",
    "print(len(warriner))\n",
    "print(warriner['aardvark'])\n",
    "f.close()"
   ]
  },
  {
   "cell_type": "code",
   "execution_count": 10,
   "metadata": {
    "collapsed": false
   },
   "outputs": [
    {
     "data": {
      "text/plain": [
       "['aardvark',\n",
       " 'abalone',\n",
       " 'abandon',\n",
       " 'abandonment',\n",
       " 'abbey',\n",
       " 'abdomen',\n",
       " 'abdominal',\n",
       " 'abduct',\n",
       " 'abduction',\n",
       " 'abide']"
      ]
     },
     "execution_count": 10,
     "metadata": {},
     "output_type": "execute_result"
    }
   ],
   "source": [
    "tmpfixedwords = []\n",
    "tmpfixedscores = []\n",
    "tmpstemwords = []\n",
    "tmpstemscores = []\n",
    "\n",
    "for key,score in warriner.items():\n",
    "    if key[-1] == '*':\n",
    "        tmpstemwords.append(key.replace('*',''))\n",
    "        tmpstemscores.append(score[0])\n",
    "    else:\n",
    "        tmpfixedwords.append(key)\n",
    "        tmpfixedscores.append(score[0])\n",
    "stemindexer = sorted(range(len(tmpstemscores)), key=lambda k: tmpstemscores[k], reverse=True)\n",
    "fixedindexer = sorted(range(len(tmpfixedwords)), key=lambda k: warriner[tmpfixedwords[k]][1])\n",
    "# sort them\n",
    "stemwords = [tmpstemwords[i] for i in stemindexer]\n",
    "stemscores = [tmpstemscores[i] for i in stemindexer]\n",
    "fixedwords = [tmpfixedwords[i] for i in fixedindexer]\n",
    "fixedscores = [tmpfixedscores[i] for i in fixedindexer]\n",
    "fixedwords[:10]"
   ]
  },
  {
   "cell_type": "code",
   "execution_count": 11,
   "metadata": {
    "collapsed": false
   },
   "outputs": [
    {
     "name": "stdout",
     "output_type": "stream",
     "text": [
      "74286\n",
      "21\n",
      "[21, 26, 413, 49, 1, 171, 174, 36, 185, 138]\n"
     ]
    }
   ],
   "source": [
    "f = open('SUBTLEX/SUBTLEXus74286wordstextversion.txt')\n",
    "SUBTLEX = dict()\n",
    "f.readline()\n",
    "for line in f:\n",
    "    l = line.rstrip().split('\\t')\n",
    "    SUBTLEX[l[0]] = int(l[1])\n",
    "print(len(SUBTLEX))\n",
    "print(SUBTLEX['aardvark'])\n",
    "f.close()\n",
    "\n",
    "fixedwordCounts = [SUBTLEX[word] if word in SUBTLEX else 1 for word in fixedwords]\n",
    "print(fixedwordCounts[:10])"
   ]
  },
  {
   "cell_type": "code",
   "execution_count": 12,
   "metadata": {
    "collapsed": false
   },
   "outputs": [
    {
     "name": "stdout",
     "output_type": "stream",
     "text": [
      "[ 1.32221929  1.41497335  2.61595005  1.69019608  0.          2.23299611\n",
      "  2.24054925  1.5563025   2.26717173  2.13987909]\n"
     ]
    }
   ],
   "source": [
    "import matplotlib.pyplot as plt\n",
    "%matplotlib inline\n",
    "import numpy as np\n",
    "log10fixedWordCounts = np.log10(fixedwordCounts)\n",
    "print(log10fixedWordCounts[:10])"
   ]
  },
  {
   "cell_type": "code",
   "execution_count": 14,
   "metadata": {
    "collapsed": false
   },
   "outputs": [
    {
     "name": "stdout",
     "output_type": "stream",
     "text": [
      "[1.0, 1.2051282051282051]\n",
      "0\n",
      "[1.2051282051282051, 1.4102564102564101]\n",
      "4\n",
      "[1.4102564102564101, 1.6153846153846154]\n",
      "15\n",
      "[1.6153846153846154, 1.8205128205128205]\n",
      "23\n",
      "[1.8205128205128205, 2.0256410256410255]\n",
      "65\n",
      "[2.0256410256410255, 2.2307692307692308]\n",
      "95\n",
      "[2.2307692307692308, 2.4358974358974361]\n",
      "138\n",
      "[2.4358974358974361, 2.641025641025641]\n",
      "234\n",
      "[2.641025641025641, 2.8461538461538458]\n",
      "252\n",
      "[2.8461538461538458, 3.0512820512820511]\n",
      "340\n",
      "[3.0512820512820511, 3.2564102564102564]\n",
      "331\n",
      "[3.2564102564102564, 3.4615384615384617]\n",
      "332\n",
      "[3.4615384615384617, 3.6666666666666665]\n",
      "396\n",
      "[3.6666666666666665, 3.8717948717948718]\n",
      "429\n",
      "[3.8717948717948718, 4.0769230769230766]\n",
      "439\n",
      "[4.0769230769230766, 4.2820512820512819]\n",
      "454\n",
      "[4.2820512820512819, 4.4871794871794872]\n",
      "556\n",
      "[4.4871794871794872, 4.6923076923076916]\n",
      "713\n",
      "[4.6923076923076916, 4.8974358974358978]\n",
      "794\n",
      "[4.8974358974358978, 5.1025641025641022]\n",
      "924\n",
      "[5.1025641025641022, 5.3076923076923075]\n",
      "991\n",
      "[5.3076923076923075, 5.5128205128205128]\n",
      "1017\n",
      "[5.5128205128205128, 5.7179487179487181]\n",
      "983\n",
      "[5.7179487179487181, 5.9230769230769234]\n",
      "837\n",
      "[5.9230769230769234, 6.1282051282051277]\n",
      "719\n",
      "[6.1282051282051277, 6.333333333333333]\n",
      "667\n",
      "[6.333333333333333, 6.5384615384615383]\n",
      "524\n",
      "[6.5384615384615383, 6.7435897435897436]\n",
      "472\n",
      "[6.7435897435897436, 6.9487179487179489]\n",
      "326\n",
      "[6.9487179487179489, 7.1538461538461533]\n",
      "287\n",
      "[7.1538461538461533, 7.3589743589743586]\n",
      "212\n",
      "[7.3589743589743586, 7.5641025641025639]\n",
      "165\n",
      "[7.5641025641025639, 7.7692307692307692]\n",
      "99\n",
      "[7.7692307692307692, 7.9743589743589745]\n",
      "50\n",
      "[7.9743589743589745, 8.1794871794871788]\n",
      "17\n",
      "[8.1794871794871788, 8.3846153846153832]\n",
      "12\n",
      "[8.3846153846153832, 8.5897435897435894]\n",
      "3\n",
      "[8.5897435897435894, 8.7948717948717956]\n",
      "0\n",
      "[8.7948717948717956, 9.0]\n",
      "0\n",
      "[ 1.73948003  2.14337354  2.49657603  2.23825017  2.22838814  2.14870387\n",
      "  2.08801933  2.02947632  1.99219395  1.91994372  1.91784032  1.86068444\n",
      "  1.88258423  1.80592977  1.76312468  1.84030036  1.78943195  1.82022838\n",
      "  1.88877171  1.91857308  1.93462182  1.94058338  2.03778185  1.99809123\n",
      "  1.98797691  2.09971133  2.24104991  2.19927093  2.29616827  2.4167798\n",
      "  2.45927492  2.45889603  2.77763395  2.75847417  2.54751135  3.51677615]\n"
     ]
    },
    {
     "data": {
      "image/png": "[encoded data removed]",
      "text/plain": [
       "<matplotlib.figure.Figure at 0x10ea8c9b0>"
      ]
     },
     "metadata": {},
     "output_type": "display_data"
    }
   ],
   "source": [
    "xmin = 1\n",
    "xmax = 9\n",
    "step = .2\n",
    "y1, x1 = np.histogram(fixedscores, bins=np.linspace(xmin, xmax, (xmax-xmin)/step))\n",
    "# go add up the log10 of the wordcounts for each bin\n",
    "log10countAvg = np.zeros(y1.size)\n",
    "j = 0\n",
    "\n",
    "for i,x in zip(range(len(x1[1:])),x1[1:]):\n",
    "    n = 0\n",
    "    print([x1[i],x])\n",
    "    for j,score in zip(range(len(fixedscores)),fixedscores):\n",
    "        if score > x1[i] and score <= x:\n",
    "            n+=1\n",
    "            log10countAvg[i] += log10fixedWordCounts[j]\n",
    "    print(n)\n",
    "    if n>0:\n",
    "        log10countAvg[i] = log10countAvg[i]/n\n",
    "print(log10countAvg[1:-2])\n",
    "\n",
    "fig = plt.figure()\n",
    "ax1 = fig.add_axes([0.15,0.2,0.7,0.7])\n",
    "ax1.hist(fixedscores, bins=x1, alpha=0.75)\n",
    "ax1.set_ylabel('count')\n",
    "ax1.set_xlabel('happs')\n",
    "# ax1.plot(x1[:-1]+step/2,y1)\n",
    "\n",
    "\n",
    "ax2 = ax1.twinx()\n",
    "ax2.plot(x1[:-1]+step/2,log10countAvg,'rs')\n",
    "ax2.set_ylim([1.7,3.6])\n",
    "ax2.set_ylabel('avg(log10(frequency))')\n",
    "\n",
    "fig.savefig('warriner_fig1.png')\n",
    "fig.savefig('warriner_fig1.pdf')"
   ]
  },
  {
   "cell_type": "code",
   "execution_count": 25,
   "metadata": {
    "collapsed": false
   },
   "outputs": [
    {
     "data": {
      "image/png": "[encoded data removed]",
      "text/plain": [
       "<matplotlib.figure.Figure at 0x11064b9b0>"
      ]
     },
     "metadata": {},
     "output_type": "display_data"
    }
   ],
   "source": [
    "from labMTsimple.speedy import sentiDict\n",
    "LabMT = sentiDict('LabMT')\n",
    "LabMT.makeListsFromDict(LabMT.data)\n",
    "\n",
    "step = 0.35\n",
    "\n",
    "fig = plt.figure()\n",
    "ax1 = fig.add_axes([0.15,0.2,0.7,0.7])\n",
    "ax1.set_ylabel('count')\n",
    "ax1.set_xlabel('happs')\n",
    "\n",
    "y1, x1 = np.histogram(fixedscores, bins=np.linspace(xmin, xmax, (xmax-xmin)/step))\n",
    "ax1.plot(x1[:-1]+step/2,y1,'b-8')\n",
    "\n",
    "y2, x2 = np.histogram(LabMT.fixedscores, bins=np.linspace(xmin, xmax, (xmax-xmin)/step))\n",
    "ax1.plot(x2[:-1]+step/2,y2,'r-^')\n",
    "\n",
    "plt.legend(['Warriner','LabMT'])\n",
    "plt.savefig('reply-fig1.png')\n",
    "plt.savefig('reply-fig1.pdf')"
   ]
  },
  {
   "cell_type": "code",
   "execution_count": 4,
   "metadata": {
    "collapsed": false
   },
   "outputs": [],
   "source": [
    "import numpy as np\n",
    "np.median?"
   ]
  },
  {
   "cell_type": "code",
   "execution_count": null,
   "metadata": {
    "collapsed": true
   },
   "outputs": [],
   "source": []
  }
 ],
 "metadata": {
  "kernelspec": {
   "display_name": "Python 3",
   "language": "python",
   "name": "python3"
  },
  "language_info": {
   "codemirror_mode": {
    "name": "ipython",
    "version": 3
   },
   "file_extension": ".py",
   "mimetype": "text/x-python",
   "name": "python",
   "nbconvert_exporter": "python",
   "pygments_lexer": "ipython3",
   "version": "3.5.1"
  }
 },
 "nbformat": 4,
 "nbformat_minor": 0
}
